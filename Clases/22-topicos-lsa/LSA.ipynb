{
  "nbformat": 4,
  "nbformat_minor": 0,
  "metadata": {
    "colab": {
      "provenance": []
    },
    "kernelspec": {
      "name": "python3",
      "display_name": "Python 3"
    },
    "language_info": {
      "name": "python"
    }
  },
  "cells": [
    {
      "cell_type": "markdown",
      "metadata": {
        "id": "_x6t9L4YDtwr"
      },
      "source": [
        "# Latent Semantic Analysis (LSA)\n",
        "\n",
        "En esta notebook vamos a reducir la dimensionalidad de un conjunto de textos mediante LSA, que consiste en encontrar las componentes singulares de la matriz de documentos por términos.\n",
        "La decomposición en valores singulares se conoce como SVD (*Singular Value Decomposition*) y es prácticamente igual al análisis de componentes principales (PCA), salvo en algunos detalles sobre el escaleo o no de las variables, y en la matriz sobre la cual se aplica cada método (en SVD se trabaja sobre la matriz de instancias en el espacio de features mientras que PCA trabaja sobre la matriz de covarianza de los features).\n",
        "Muchos conceptos vistos en PCA se aplican acá también:\n",
        "\n",
        "- los valores singulares nos dicen cuánta información está contenida en cada componente.\n",
        "- las componentes vienen ordenadas de la más informativa a la menos.\n",
        "\n",
        "Reducir la dimensión suele ser una buena práctica a la hora de medir distancias (comparar) entre datos: en vez de hacerlo en el espacio original es mejor operar en el espacio reducido.\n",
        "\n"
      ]
    },
    {
      "cell_type": "code",
      "metadata": {
        "colab": {
          "base_uri": "https://localhost:8080/"
        },
        "id": "mDeRzgMhgDEH",
        "outputId": "b410115b-fc78-487e-93bf-9ba8cb1dbde8"
      },
      "source": [
        "# Importamos las librerías habituales\n",
        "import pandas as pd\n",
        "from google.colab import drive\n",
        "drive.mount('/content/drive')\n",
        "\n",
        "import matplotlib.pylab as plt\n",
        "import numpy as np"
      ],
      "execution_count": null,
      "outputs": [
        {
          "output_type": "stream",
          "name": "stdout",
          "text": [
            "Mounted at /content/drive\n"
          ]
        }
      ]
    },
    {
      "cell_type": "code",
      "metadata": {
        "colab": {
          "base_uri": "https://localhost:8080/"
        },
        "id": "_4WWHyU0Mlga",
        "outputId": "a12a94e4-9c01-4aab-8da9-fdc57b8a164b"
      },
      "source": [
        "# Importamos nltk para extraer stopwords\n",
        "import nltk\n",
        "nltk.download('stopwords')\n",
        "\n",
        "# Librería para hacer wordclouds\n",
        "from wordcloud import WordCloud"
      ],
      "execution_count": null,
      "outputs": [
        {
          "output_type": "stream",
          "name": "stdout",
          "text": [
            "[nltk_data] Downloading package stopwords to /root/nltk_data...\n",
            "[nltk_data]   Unzipping corpora/stopwords.zip.\n"
          ]
        }
      ]
    },
    {
      "cell_type": "code",
      "metadata": {
        "id": "szvl8tlaGep0"
      },
      "source": [
        "# Objetos de sklearn para hacer LSA\n",
        "from sklearn.feature_extraction.text import CountVectorizer # Contador de frecuencia\n",
        "from sklearn.feature_extraction.text import TfidfTransformer # Creador de tf-idf\n",
        "from sklearn.decomposition import TruncatedSVD # Singular Value Decomposition"
      ],
      "execution_count": null,
      "outputs": []
    },
    {
      "cell_type": "markdown",
      "metadata": {
        "id": "SYlUvRe9FHTC"
      },
      "source": [
        "Cargamos el dataset con el que vamos a trabajar desde la carpeta de la materia. Vamos a utilizar el dataset de la clase de *sentiment* sobre letras de distintos ritmos musicales:"
      ]
    },
    {
      "cell_type": "code",
      "metadata": {
        "id": "9Azi0G_Ngztg",
        "colab": {
          "base_uri": "https://localhost:8080/",
          "height": 204
        },
        "outputId": "7a51bcac-2fbf-4fd8-af3e-ced202803c13"
      },
      "source": [
        "# Path de nuestro dataset\n",
        "filename = '/content/drive/My Drive/LaboDatos2022/todo_tangos.csv'\n",
        "\n",
        "# Carga del dataset\n",
        "df = pd.read_csv(filename)\n",
        "\n",
        "# Vemos las primeras filas\n",
        "df.head()"
      ],
      "execution_count": null,
      "outputs": [
        {
          "output_type": "execute_result",
          "data": {
            "text/plain": [
              "                                                 url                  titulo  \\\n",
              "0  https://www.todotango.com/musica/tema/130/A-ba...                A bailar   \n",
              "1  https://www.todotango.com/musica/tema/7866/A-b...       A bailar el tango   \n",
              "2  https://www.todotango.com/musica/tema/3647/A-B...           A Beba Bidart   \n",
              "3  https://www.todotango.com/musica/tema/2864/A-b...  A bordo de mis zapatos   \n",
              "4  https://www.todotango.com/musica/tema/3843/A-B...          A Buenos Aires   \n",
              "\n",
              "           ritmo          autor_letra         autor_musica  \\\n",
              "0          Tango      Homero Expósito     Domingo Federico   \n",
              "1          Tango  Leopoldo Díaz Vélez  Leopoldo Díaz Vélez   \n",
              "2  Poemalunfardo       Alberto Uemura                  NaN   \n",
              "3        Milonga        Eugenio Majul         César Isella   \n",
              "4        Milonga       Edmundo Rivero       Edmundo Rivero   \n",
              "\n",
              "                                               letra     ano  \n",
              "0  ¡A bailar a bailar que la orquesta se va! Sobr...  1943.0  \n",
              "1  Este tango nació para bailarse y así hamacarse...  1962.0  \n",
              "2  Nació en la calle Quito entre Boedo y Colombre...     NaN  \n",
              "3  Caminé todas las calles de Buenos Aires y es c...     NaN  \n",
              "4  En tu baraje gringo ciudad mía vas perdiendo t...     NaN  "
            ],
            "text/html": [
              "\n",
              "  <div id=\"df-940c4d04-dde0-4c2c-952a-7ab247c32ec5\">\n",
              "    <div class=\"colab-df-container\">\n",
              "      <div>\n",
              "<style scoped>\n",
              "    .dataframe tbody tr th:only-of-type {\n",
              "        vertical-align: middle;\n",
              "    }\n",
              "\n",
              "    .dataframe tbody tr th {\n",
              "        vertical-align: top;\n",
              "    }\n",
              "\n",
              "    .dataframe thead th {\n",
              "        text-align: right;\n",
              "    }\n",
              "</style>\n",
              "<table border=\"1\" class=\"dataframe\">\n",
              "  <thead>\n",
              "    <tr style=\"text-align: right;\">\n",
              "      <th></th>\n",
              "      <th>url</th>\n",
              "      <th>titulo</th>\n",
              "      <th>ritmo</th>\n",
              "      <th>autor_letra</th>\n",
              "      <th>autor_musica</th>\n",
              "      <th>letra</th>\n",
              "      <th>ano</th>\n",
              "    </tr>\n",
              "  </thead>\n",
              "  <tbody>\n",
              "    <tr>\n",
              "      <th>0</th>\n",
              "      <td>https://www.todotango.com/musica/tema/130/A-ba...</td>\n",
              "      <td>A bailar</td>\n",
              "      <td>Tango</td>\n",
              "      <td>Homero Expósito</td>\n",
              "      <td>Domingo Federico</td>\n",
              "      <td>¡A bailar a bailar que la orquesta se va! Sobr...</td>\n",
              "      <td>1943.0</td>\n",
              "    </tr>\n",
              "    <tr>\n",
              "      <th>1</th>\n",
              "      <td>https://www.todotango.com/musica/tema/7866/A-b...</td>\n",
              "      <td>A bailar el tango</td>\n",
              "      <td>Tango</td>\n",
              "      <td>Leopoldo Díaz Vélez</td>\n",
              "      <td>Leopoldo Díaz Vélez</td>\n",
              "      <td>Este tango nació para bailarse y así hamacarse...</td>\n",
              "      <td>1962.0</td>\n",
              "    </tr>\n",
              "    <tr>\n",
              "      <th>2</th>\n",
              "      <td>https://www.todotango.com/musica/tema/3647/A-B...</td>\n",
              "      <td>A Beba Bidart</td>\n",
              "      <td>Poemalunfardo</td>\n",
              "      <td>Alberto Uemura</td>\n",
              "      <td>NaN</td>\n",
              "      <td>Nació en la calle Quito entre Boedo y Colombre...</td>\n",
              "      <td>NaN</td>\n",
              "    </tr>\n",
              "    <tr>\n",
              "      <th>3</th>\n",
              "      <td>https://www.todotango.com/musica/tema/2864/A-b...</td>\n",
              "      <td>A bordo de mis zapatos</td>\n",
              "      <td>Milonga</td>\n",
              "      <td>Eugenio Majul</td>\n",
              "      <td>César Isella</td>\n",
              "      <td>Caminé todas las calles de Buenos Aires y es c...</td>\n",
              "      <td>NaN</td>\n",
              "    </tr>\n",
              "    <tr>\n",
              "      <th>4</th>\n",
              "      <td>https://www.todotango.com/musica/tema/3843/A-B...</td>\n",
              "      <td>A Buenos Aires</td>\n",
              "      <td>Milonga</td>\n",
              "      <td>Edmundo Rivero</td>\n",
              "      <td>Edmundo Rivero</td>\n",
              "      <td>En tu baraje gringo ciudad mía vas perdiendo t...</td>\n",
              "      <td>NaN</td>\n",
              "    </tr>\n",
              "  </tbody>\n",
              "</table>\n",
              "</div>\n",
              "      <button class=\"colab-df-convert\" onclick=\"convertToInteractive('df-940c4d04-dde0-4c2c-952a-7ab247c32ec5')\"\n",
              "              title=\"Convert this dataframe to an interactive table.\"\n",
              "              style=\"display:none;\">\n",
              "        \n",
              "  <svg xmlns=\"http://www.w3.org/2000/svg\" height=\"24px\"viewBox=\"0 0 24 24\"\n",
              "       width=\"24px\">\n",
              "    <path d=\"M0 0h24v24H0V0z\" fill=\"none\"/>\n",
              "    <path d=\"M18.56 5.44l.94 2.06.94-2.06 2.06-.94-2.06-.94-.94-2.06-.94 2.06-2.06.94zm-11 1L8.5 8.5l.94-2.06 2.06-.94-2.06-.94L8.5 2.5l-.94 2.06-2.06.94zm10 10l.94 2.06.94-2.06 2.06-.94-2.06-.94-.94-2.06-.94 2.06-2.06.94z\"/><path d=\"M17.41 7.96l-1.37-1.37c-.4-.4-.92-.59-1.43-.59-.52 0-1.04.2-1.43.59L10.3 9.45l-7.72 7.72c-.78.78-.78 2.05 0 2.83L4 21.41c.39.39.9.59 1.41.59.51 0 1.02-.2 1.41-.59l7.78-7.78 2.81-2.81c.8-.78.8-2.07 0-2.86zM5.41 20L4 18.59l7.72-7.72 1.47 1.35L5.41 20z\"/>\n",
              "  </svg>\n",
              "      </button>\n",
              "      \n",
              "  <style>\n",
              "    .colab-df-container {\n",
              "      display:flex;\n",
              "      flex-wrap:wrap;\n",
              "      gap: 12px;\n",
              "    }\n",
              "\n",
              "    .colab-df-convert {\n",
              "      background-color: #E8F0FE;\n",
              "      border: none;\n",
              "      border-radius: 50%;\n",
              "      cursor: pointer;\n",
              "      display: none;\n",
              "      fill: #1967D2;\n",
              "      height: 32px;\n",
              "      padding: 0 0 0 0;\n",
              "      width: 32px;\n",
              "    }\n",
              "\n",
              "    .colab-df-convert:hover {\n",
              "      background-color: #E2EBFA;\n",
              "      box-shadow: 0px 1px 2px rgba(60, 64, 67, 0.3), 0px 1px 3px 1px rgba(60, 64, 67, 0.15);\n",
              "      fill: #174EA6;\n",
              "    }\n",
              "\n",
              "    [theme=dark] .colab-df-convert {\n",
              "      background-color: #3B4455;\n",
              "      fill: #D2E3FC;\n",
              "    }\n",
              "\n",
              "    [theme=dark] .colab-df-convert:hover {\n",
              "      background-color: #434B5C;\n",
              "      box-shadow: 0px 1px 3px 1px rgba(0, 0, 0, 0.15);\n",
              "      filter: drop-shadow(0px 1px 2px rgba(0, 0, 0, 0.3));\n",
              "      fill: #FFFFFF;\n",
              "    }\n",
              "  </style>\n",
              "\n",
              "      <script>\n",
              "        const buttonEl =\n",
              "          document.querySelector('#df-940c4d04-dde0-4c2c-952a-7ab247c32ec5 button.colab-df-convert');\n",
              "        buttonEl.style.display =\n",
              "          google.colab.kernel.accessAllowed ? 'block' : 'none';\n",
              "\n",
              "        async function convertToInteractive(key) {\n",
              "          const element = document.querySelector('#df-940c4d04-dde0-4c2c-952a-7ab247c32ec5');\n",
              "          const dataTable =\n",
              "            await google.colab.kernel.invokeFunction('convertToInteractive',\n",
              "                                                     [key], {});\n",
              "          if (!dataTable) return;\n",
              "\n",
              "          const docLinkHtml = 'Like what you see? Visit the ' +\n",
              "            '<a target=\"_blank\" href=https://colab.research.google.com/notebooks/data_table.ipynb>data table notebook</a>'\n",
              "            + ' to learn more about interactive tables.';\n",
              "          element.innerHTML = '';\n",
              "          dataTable['output_type'] = 'display_data';\n",
              "          await google.colab.output.renderOutput(dataTable, element);\n",
              "          const docLink = document.createElement('div');\n",
              "          docLink.innerHTML = docLinkHtml;\n",
              "          element.appendChild(docLink);\n",
              "        }\n",
              "      </script>\n",
              "    </div>\n",
              "  </div>\n",
              "  "
            ]
          },
          "metadata": {},
          "execution_count": 4
        }
      ]
    },
    {
      "cell_type": "markdown",
      "metadata": {
        "id": "Mg46yWvJFOBj"
      },
      "source": [
        "Vamos a quedarnos con canciones pertenecientes al tango y con datos donde haya información de la letra:"
      ]
    },
    {
      "cell_type": "code",
      "metadata": {
        "id": "FTwOKV3ehFIv",
        "colab": {
          "base_uri": "https://localhost:8080/",
          "height": 204
        },
        "outputId": "16f9035d-3524-4e88-f922-ed4af3616b72"
      },
      "source": [
        "# Nos quedamos solo con los datos pertenecientes al tango\n",
        "df = df[df['ritmo'] == 'Tango'].copy()\n",
        "\n",
        "# Nos quedamos con solo las datos donde esté especificada la letra\n",
        "df.dropna(subset = ['letra'], inplace = True)\n",
        "\n",
        "# Reseteamos el índice\n",
        "df.reset_index(drop = True, inplace = True)\n",
        "\n",
        "# Vemos las primeras filas\n",
        "df.head()"
      ],
      "execution_count": null,
      "outputs": [
        {
          "output_type": "execute_result",
          "data": {
            "text/plain": [
              "                                                 url             titulo  \\\n",
              "0  https://www.todotango.com/musica/tema/130/A-ba...           A bailar   \n",
              "1  https://www.todotango.com/musica/tema/7866/A-b...  A bailar el tango   \n",
              "2  https://www.todotango.com/musica/tema/6354/A-c...      A cara limpia   \n",
              "3  https://www.todotango.com/musica/tema/6455/A-c...      A cara o cruz   \n",
              "4  https://www.todotango.com/musica/tema/33/A-Cat...  A Cátulo Castillo   \n",
              "\n",
              "   ritmo          autor_letra         autor_musica  \\\n",
              "0  Tango      Homero Expósito     Domingo Federico   \n",
              "1  Tango  Leopoldo Díaz Vélez  Leopoldo Díaz Vélez   \n",
              "2  Tango           Nolo López        Anselmo Aieta   \n",
              "3  Tango       Agustín Irusta       Agustín Irusta   \n",
              "4  Tango      Eladia Blázquez      Eladia Blázquez   \n",
              "\n",
              "                                               letra     ano  \n",
              "0  ¡A bailar a bailar que la orquesta se va! Sobr...  1943.0  \n",
              "1  Este tango nació para bailarse y así hamacarse...  1962.0  \n",
              "2  No te demores que se hace tarde ponete pronto ...     NaN  \n",
              "3  A cara o cruz le dije un día y a cara cruz jug...     NaN  \n",
              "4  Tu muerte fue una tarde muy cálida de Octubre ...     NaN  "
            ],
            "text/html": [
              "\n",
              "  <div id=\"df-4a013dc7-864e-4021-ac96-b3dd4695267f\">\n",
              "    <div class=\"colab-df-container\">\n",
              "      <div>\n",
              "<style scoped>\n",
              "    .dataframe tbody tr th:only-of-type {\n",
              "        vertical-align: middle;\n",
              "    }\n",
              "\n",
              "    .dataframe tbody tr th {\n",
              "        vertical-align: top;\n",
              "    }\n",
              "\n",
              "    .dataframe thead th {\n",
              "        text-align: right;\n",
              "    }\n",
              "</style>\n",
              "<table border=\"1\" class=\"dataframe\">\n",
              "  <thead>\n",
              "    <tr style=\"text-align: right;\">\n",
              "      <th></th>\n",
              "      <th>url</th>\n",
              "      <th>titulo</th>\n",
              "      <th>ritmo</th>\n",
              "      <th>autor_letra</th>\n",
              "      <th>autor_musica</th>\n",
              "      <th>letra</th>\n",
              "      <th>ano</th>\n",
              "    </tr>\n",
              "  </thead>\n",
              "  <tbody>\n",
              "    <tr>\n",
              "      <th>0</th>\n",
              "      <td>https://www.todotango.com/musica/tema/130/A-ba...</td>\n",
              "      <td>A bailar</td>\n",
              "      <td>Tango</td>\n",
              "      <td>Homero Expósito</td>\n",
              "      <td>Domingo Federico</td>\n",
              "      <td>¡A bailar a bailar que la orquesta se va! Sobr...</td>\n",
              "      <td>1943.0</td>\n",
              "    </tr>\n",
              "    <tr>\n",
              "      <th>1</th>\n",
              "      <td>https://www.todotango.com/musica/tema/7866/A-b...</td>\n",
              "      <td>A bailar el tango</td>\n",
              "      <td>Tango</td>\n",
              "      <td>Leopoldo Díaz Vélez</td>\n",
              "      <td>Leopoldo Díaz Vélez</td>\n",
              "      <td>Este tango nació para bailarse y así hamacarse...</td>\n",
              "      <td>1962.0</td>\n",
              "    </tr>\n",
              "    <tr>\n",
              "      <th>2</th>\n",
              "      <td>https://www.todotango.com/musica/tema/6354/A-c...</td>\n",
              "      <td>A cara limpia</td>\n",
              "      <td>Tango</td>\n",
              "      <td>Nolo López</td>\n",
              "      <td>Anselmo Aieta</td>\n",
              "      <td>No te demores que se hace tarde ponete pronto ...</td>\n",
              "      <td>NaN</td>\n",
              "    </tr>\n",
              "    <tr>\n",
              "      <th>3</th>\n",
              "      <td>https://www.todotango.com/musica/tema/6455/A-c...</td>\n",
              "      <td>A cara o cruz</td>\n",
              "      <td>Tango</td>\n",
              "      <td>Agustín Irusta</td>\n",
              "      <td>Agustín Irusta</td>\n",
              "      <td>A cara o cruz le dije un día y a cara cruz jug...</td>\n",
              "      <td>NaN</td>\n",
              "    </tr>\n",
              "    <tr>\n",
              "      <th>4</th>\n",
              "      <td>https://www.todotango.com/musica/tema/33/A-Cat...</td>\n",
              "      <td>A Cátulo Castillo</td>\n",
              "      <td>Tango</td>\n",
              "      <td>Eladia Blázquez</td>\n",
              "      <td>Eladia Blázquez</td>\n",
              "      <td>Tu muerte fue una tarde muy cálida de Octubre ...</td>\n",
              "      <td>NaN</td>\n",
              "    </tr>\n",
              "  </tbody>\n",
              "</table>\n",
              "</div>\n",
              "      <button class=\"colab-df-convert\" onclick=\"convertToInteractive('df-4a013dc7-864e-4021-ac96-b3dd4695267f')\"\n",
              "              title=\"Convert this dataframe to an interactive table.\"\n",
              "              style=\"display:none;\">\n",
              "        \n",
              "  <svg xmlns=\"http://www.w3.org/2000/svg\" height=\"24px\"viewBox=\"0 0 24 24\"\n",
              "       width=\"24px\">\n",
              "    <path d=\"M0 0h24v24H0V0z\" fill=\"none\"/>\n",
              "    <path d=\"M18.56 5.44l.94 2.06.94-2.06 2.06-.94-2.06-.94-.94-2.06-.94 2.06-2.06.94zm-11 1L8.5 8.5l.94-2.06 2.06-.94-2.06-.94L8.5 2.5l-.94 2.06-2.06.94zm10 10l.94 2.06.94-2.06 2.06-.94-2.06-.94-.94-2.06-.94 2.06-2.06.94z\"/><path d=\"M17.41 7.96l-1.37-1.37c-.4-.4-.92-.59-1.43-.59-.52 0-1.04.2-1.43.59L10.3 9.45l-7.72 7.72c-.78.78-.78 2.05 0 2.83L4 21.41c.39.39.9.59 1.41.59.51 0 1.02-.2 1.41-.59l7.78-7.78 2.81-2.81c.8-.78.8-2.07 0-2.86zM5.41 20L4 18.59l7.72-7.72 1.47 1.35L5.41 20z\"/>\n",
              "  </svg>\n",
              "      </button>\n",
              "      \n",
              "  <style>\n",
              "    .colab-df-container {\n",
              "      display:flex;\n",
              "      flex-wrap:wrap;\n",
              "      gap: 12px;\n",
              "    }\n",
              "\n",
              "    .colab-df-convert {\n",
              "      background-color: #E8F0FE;\n",
              "      border: none;\n",
              "      border-radius: 50%;\n",
              "      cursor: pointer;\n",
              "      display: none;\n",
              "      fill: #1967D2;\n",
              "      height: 32px;\n",
              "      padding: 0 0 0 0;\n",
              "      width: 32px;\n",
              "    }\n",
              "\n",
              "    .colab-df-convert:hover {\n",
              "      background-color: #E2EBFA;\n",
              "      box-shadow: 0px 1px 2px rgba(60, 64, 67, 0.3), 0px 1px 3px 1px rgba(60, 64, 67, 0.15);\n",
              "      fill: #174EA6;\n",
              "    }\n",
              "\n",
              "    [theme=dark] .colab-df-convert {\n",
              "      background-color: #3B4455;\n",
              "      fill: #D2E3FC;\n",
              "    }\n",
              "\n",
              "    [theme=dark] .colab-df-convert:hover {\n",
              "      background-color: #434B5C;\n",
              "      box-shadow: 0px 1px 3px 1px rgba(0, 0, 0, 0.15);\n",
              "      filter: drop-shadow(0px 1px 2px rgba(0, 0, 0, 0.3));\n",
              "      fill: #FFFFFF;\n",
              "    }\n",
              "  </style>\n",
              "\n",
              "      <script>\n",
              "        const buttonEl =\n",
              "          document.querySelector('#df-4a013dc7-864e-4021-ac96-b3dd4695267f button.colab-df-convert');\n",
              "        buttonEl.style.display =\n",
              "          google.colab.kernel.accessAllowed ? 'block' : 'none';\n",
              "\n",
              "        async function convertToInteractive(key) {\n",
              "          const element = document.querySelector('#df-4a013dc7-864e-4021-ac96-b3dd4695267f');\n",
              "          const dataTable =\n",
              "            await google.colab.kernel.invokeFunction('convertToInteractive',\n",
              "                                                     [key], {});\n",
              "          if (!dataTable) return;\n",
              "\n",
              "          const docLinkHtml = 'Like what you see? Visit the ' +\n",
              "            '<a target=\"_blank\" href=https://colab.research.google.com/notebooks/data_table.ipynb>data table notebook</a>'\n",
              "            + ' to learn more about interactive tables.';\n",
              "          element.innerHTML = '';\n",
              "          dataTable['output_type'] = 'display_data';\n",
              "          await google.colab.output.renderOutput(dataTable, element);\n",
              "          const docLink = document.createElement('div');\n",
              "          docLink.innerHTML = docLinkHtml;\n",
              "          element.appendChild(docLink);\n",
              "        }\n",
              "      </script>\n",
              "    </div>\n",
              "  </div>\n",
              "  "
            ]
          },
          "metadata": {},
          "execution_count": 5
        }
      ]
    },
    {
      "cell_type": "markdown",
      "metadata": {
        "id": "Lx_Gl_NeN9B1"
      },
      "source": [
        "### Construcción de la matriz documentos-términos\n",
        "\n",
        "Vamos a construir esta matriz con valorización tf-idf, es decir, además de la frecuencia del término vamos a ponderar la especificidad.\n",
        "Esto lo hacemos en dos pasos: primero, describimos nuestros datos mediante frecuencia de términos; luego, le agregamos la valorización de la especificidad.\n",
        "Vamos además a remover las *stopwords* obtenidas de *nltk*."
      ]
    },
    {
      "cell_type": "code",
      "metadata": {
        "id": "-EgNSzJ2itUT",
        "colab": {
          "base_uri": "https://localhost:8080/"
        },
        "outputId": "2bdda5db-2a54-4ae8-9045-39b2297f1910"
      },
      "source": [
        "# Lista de stopwords\n",
        "stopwords = nltk.corpus.stopwords.words('spanish')\n",
        "\n",
        "# Creamos el objeto contador de palabras, pidiéndole que remueve\n",
        "# las stopwords, los términos que aparecen en un único documento (min_df)\n",
        "# y los términos que aparecen en más del 70% de los documentos (max_df).\n",
        "# Esto es para eliminar palabras raras (o errores de tipeo) y\n",
        "# términos que seguramente son stopwords no incluídos en la lista\n",
        "count = CountVectorizer(min_df = 2, max_df = 0.70, stop_words = stopwords)\n",
        "\n",
        "# Ajustamos con los datos. Acá especificamente creamos una matriz documentos-términos\n",
        "x_count = count.fit_transform(df['letra'])\n",
        "\n",
        "# Dimensions de la matriz doc-tér\n",
        "print(x_count.shape)"
      ],
      "execution_count": null,
      "outputs": [
        {
          "output_type": "stream",
          "name": "stdout",
          "text": [
            "(3981, 16661)\n"
          ]
        }
      ]
    },
    {
      "cell_type": "markdown",
      "metadata": {
        "id": "8k6PZomjPuJm"
      },
      "source": [
        "Podemos tranquilamente trabajar sobre la matriz de documentos descritos a través de la frecuencia de las palabras o bien, como es habitual, ponderar la especificidad de los términos mediante tf-idf. Esto lo hacemos de la siguiente manera:"
      ]
    },
    {
      "cell_type": "code",
      "metadata": {
        "id": "hZQUTM2zi_zg"
      },
      "source": [
        "# Creamos el objeto tf-idf. Le decimos además que devuelva los\n",
        "# vectores documento con norma euclídea igual a 1 (norm = 'l2')\n",
        "tfidf = TfidfTransformer(norm = 'l2')\n",
        "\n",
        "# Creamos la matriz tf-idf a partir de la matriz de frecuencias\n",
        "x_tfidf = tfidf.fit_transform(x_count)"
      ],
      "execution_count": null,
      "outputs": []
    },
    {
      "cell_type": "markdown",
      "metadata": {
        "id": "5f74iv87QVo1"
      },
      "source": [
        "### Aplicación de LSA sobre el corpus\n",
        "\n",
        "Reduzcamos la dimensionalidad de nuestro corpus de textos a través de hallar los valores singulares. Elijamos por ejemplo 300 dimensiones:"
      ]
    },
    {
      "cell_type": "code",
      "metadata": {
        "id": "e2fJEzL_jFRv"
      },
      "source": [
        "# Dimensión del espacio reducido\n",
        "n_components = 300\n",
        "\n",
        "# Creación del objeto SVD\n",
        "svd = TruncatedSVD(n_components = n_components)"
      ],
      "execution_count": null,
      "outputs": []
    },
    {
      "cell_type": "markdown",
      "metadata": {
        "id": "h5Y6tg3cjsBc"
      },
      "source": [
        "Sigamos el mismo procedimiento del [paper original de LSA](https://mainline.brynmawr.edu/Courses/cs380/fall2006/intro_to_LSA.pdf) (o al menos uno de los mas citados), en el cual en vez de disponer la matriz de los datos como documentos en las filas y términos en las columnas, la disponen traspuesta (cada término es una fila y cada documento es una columna). Ver al final un pequeño comentario sobre esto.\n",
        "\n",
        "Para hacer esto, simplemente trasponemos la matriz antes de buscar valores singulares:"
      ]
    },
    {
      "cell_type": "code",
      "metadata": {
        "colab": {
          "base_uri": "https://localhost:8080/"
        },
        "id": "R16JjFxHjrZU",
        "outputId": "b185aa03-8d0a-4394-d680-64cf5c89fc57"
      },
      "source": [
        "# Ajuste con los datos y descripción en el espacio reducido\n",
        "# Trabajamos con la matriz traspuesta\n",
        "x_svd = svd.fit_transform(x_tfidf.T)\n",
        "\n",
        "# Dimensión de la matriz de datos en el espacio reducido\n",
        "print(x_svd.shape)"
      ],
      "execution_count": null,
      "outputs": [
        {
          "output_type": "stream",
          "name": "stdout",
          "text": [
            "(16661, 300)\n"
          ]
        }
      ]
    },
    {
      "cell_type": "markdown",
      "metadata": {
        "id": "S4Qs8hnBlJ90"
      },
      "source": [
        "Notemos que la matriz transformada tiene tantos términos por la cantidad de componentes singulares."
      ]
    },
    {
      "cell_type": "markdown",
      "metadata": {
        "id": "GHmxGCZYU_Gx"
      },
      "source": [
        "Al igual que con PCA podemos ver la cantidad de información que retuvimos al hacer la reducción dimensional:"
      ]
    },
    {
      "cell_type": "code",
      "metadata": {
        "colab": {
          "base_uri": "https://localhost:8080/",
          "height": 297
        },
        "id": "vJ8xKEiUVCjT",
        "outputId": "2041b0f2-6525-43c0-c420-dc476713c8f7"
      },
      "source": [
        "# con .explained_variance_ratio_ vemos la fracción de información que aporta cada componente\n",
        "evr = svd.explained_variance_ratio_\n",
        "\n",
        "# Graficamos la fracción de varianza que aporta cada componente\n",
        "# y la información acumulada\n",
        "fig, ax = plt.subplots(1, 2, figsize = (12, 4))\n",
        "\n",
        "ax[0].plot(range(1, len(evr) + 1), evr, '-', linewidth = 3)\n",
        "ax[0].set_ylabel('Fracción de varianza explicada')\n",
        "ax[0].set_xlabel('Número de valor singular')\n",
        "\n",
        "# Calculamos el acumulado con la función cumsum de numpy\n",
        "varianza_acumulada = np.cumsum(evr)\n",
        "\n",
        "ax[1].plot(range(1, len(evr) + 1), varianza_acumulada, '-', linewidth = 3)\n",
        "ax[1].set_ylabel('Fracción acumulada de varianza explicada')\n",
        "ax[1].set_xlabel('Cantidad de valores singulares')"
      ],
      "execution_count": null,
      "outputs": [
        {
          "output_type": "execute_result",
          "data": {
            "text/plain": [
              "Text(0.5, 0, 'Cantidad de valores singulares')"
            ]
          },
          "metadata": {},
          "execution_count": 10
        },
        {
          "output_type": "display_data",
          "data": {
            "text/plain": [
              "<Figure size 864x288 with 2 Axes>"
            ],
            "image/png": "[encoded data removed]"
          },
          "metadata": {
            "needs_background": "light"
          }
        }
      ]
    },
    {
      "cell_type": "markdown",
      "metadata": {
        "id": "QmC_U09IlZRP"
      },
      "source": [
        "Así vemos que con 300 dimensiones captamos alrededor del 30% de la información."
      ]
    },
    {
      "cell_type": "markdown",
      "metadata": {
        "id": "jK4R62yNU86u"
      },
      "source": [
        "### Operaciones en el espacio reducido. Términos similares.\n",
        "\n",
        "Descrito los términos en el espacio reducido podemos ver la similitud entre ellos. Lo que hicimos al reducir la dimensión fue identificar términos que aparecen en contextos similares, lo cual resalta cuándo dos términos estan relacionados. Veamos un ejemplo:"
      ]
    },
    {
      "cell_type": "code",
      "metadata": {
        "id": "a2Yipn4Jm9br"
      },
      "source": [
        "# Identifiquemos el índice de alguna palabra de referencia\n",
        "index_word = count.vocabulary_['parís']"
      ],
      "execution_count": null,
      "outputs": []
    },
    {
      "cell_type": "markdown",
      "metadata": {
        "id": "mGukYxqSpiAx"
      },
      "source": [
        "En *count.vocabulary_* nos encontramos un diccionario que linkea un dado término con el índice correspondiente. Algo que nos va a ser útil es hacer el proceso inverso: a partir de un índice, obtener el término correspondiente. Esto lo hacemos con el siguiente objeto:"
      ]
    },
    {
      "cell_type": "code",
      "metadata": {
        "id": "y8f86JStp-7_"
      },
      "source": [
        "# Diccionario índice: término\n",
        "vocabulary = {item: key for key, item in count.vocabulary_.items()}"
      ],
      "execution_count": null,
      "outputs": []
    },
    {
      "cell_type": "markdown",
      "metadata": {
        "id": "8MlobLNsUikH"
      },
      "source": [
        "Por otro lado, vamos a tomar como medida de similaridad a la distancia coseno, definida como:\n",
        "\n",
        "$$ d(\\bar u,\\bar v) = 1 - \\frac{\\bar u \\cdot \\bar v}{|u|_2|v|_2}$$\n",
        "\n",
        "que vale 0 si los vectores son apuntan en la misma dirección y 1 si son ortogonales. Definamos la similaridad como 1 menos la distancia coseno:"
      ]
    },
    {
      "cell_type": "code",
      "metadata": {
        "id": "EMY3XKJ1XoFK"
      },
      "source": [
        "from scipy.spatial.distance import cosine as cosine_distance\n",
        "\n",
        "# Calculo las distancia coseno del término de referencia respecto de los otros\n",
        "similarities = [1.00 - cosine_distance(x_svd[index_word], x_svd[i]) for i in range(x_svd.shape[0])]"
      ],
      "execution_count": null,
      "outputs": []
    },
    {
      "cell_type": "markdown",
      "metadata": {
        "id": "Rbvb2UdGXGXp"
      },
      "source": [
        "Ahora nos interesa encontrar los terminos más similares. Esto lo hacemos con la librería *heapq* que nos permite encontrarlas rápidamente:"
      ]
    },
    {
      "cell_type": "code",
      "metadata": {
        "colab": {
          "base_uri": "https://localhost:8080/"
        },
        "id": "aRPZMOHvnVTP",
        "outputId": "2b8c200e-b7f8-40f6-d8f6-e60d8bd646aa"
      },
      "source": [
        "import heapq\n",
        "\n",
        "# Encuentra las 10 similaridades más grande\n",
        "max_matching = heapq.nlargest(10, similarities)\n",
        "\n",
        "# Encuentra los índices correspondiente a las similaridades más altas\n",
        "max_matching_index = [np.where(similarities == m)[0][0] for m in max_matching]\n",
        "\n",
        "# Devuelve los términos correspondientes a cada índice\n",
        "for i in max_matching_index:\n",
        "  print(vocabulary[i])"
      ],
      "execution_count": null,
      "outputs": [
        {
          "output_type": "stream",
          "name": "stdout",
          "text": [
            "parís\n",
            "boulevard\n",
            "barbudos\n",
            "navaja\n",
            "bulevar\n",
            "aime\n",
            "montmartre\n",
            "piantate\n",
            "comisaría\n",
            "bois\n"
          ]
        }
      ]
    },
    {
      "cell_type": "markdown",
      "metadata": {
        "id": "tRLnxmgrnfW6"
      },
      "source": [
        "#### Relaciones entre documentos\n",
        "\n",
        "Una vez que estamos en un espacio de dimensión reducida podemos tratar de buscar similitud entre documentos. Por ejemplo, podemos ver cuales son las letras más similares a \"Volver\", de Gardel y Lepera (que dúo, no?)."
      ]
    },
    {
      "cell_type": "code",
      "metadata": {
        "id": "rHV4c2QkU8Rr"
      },
      "source": [
        "# Buscamos el índice de la canción Volver\n",
        "track_index = df[df['titulo'] == 'Volver'].index[0]"
      ],
      "execution_count": null,
      "outputs": []
    },
    {
      "cell_type": "markdown",
      "metadata": {
        "id": "pFcIbyVwoSgu"
      },
      "source": [
        "¿Dónde encontramos información de los documentos? Recordemos de PCA que podíamos obtener las componentes principales, aquí lo mismo. Vemos las dimensiones:"
      ]
    },
    {
      "cell_type": "code",
      "metadata": {
        "colab": {
          "base_uri": "https://localhost:8080/"
        },
        "id": "j4DSGLqVosEL",
        "outputId": "598743b5-7952-4c6b-8cfc-e11c6391383f"
      },
      "source": [
        "# Dimensiones de las componentes singulares\n",
        "print(svd.components_.shape)"
      ],
      "execution_count": null,
      "outputs": [
        {
          "output_type": "stream",
          "name": "stdout",
          "text": [
            "(300, 3981)\n"
          ]
        }
      ]
    },
    {
      "cell_type": "markdown",
      "metadata": {
        "id": "SG34Nv7goy6b"
      },
      "source": [
        "Al ver las dimensiones nos damos cuenta que trasponer esta matriz obtenemos los documentos en el espacio de dimensión reducida. Podemos calcular la similitud entre ellos o respecto de un tema de referencia:"
      ]
    },
    {
      "cell_type": "code",
      "metadata": {
        "id": "awSefLlGnwyY"
      },
      "source": [
        "# Calculo las distancia coseno de la canción respecto de todas las demás canciones\n",
        "similarities = [1.00 - cosine_distance(svd.components_.T[track_index], svd.components_.T[i]) for i in range(svd.components_.shape[1])]"
      ],
      "execution_count": null,
      "outputs": []
    },
    {
      "cell_type": "code",
      "metadata": {
        "colab": {
          "base_uri": "https://localhost:8080/",
          "height": 221
        },
        "id": "3r4kYPoZWpnD",
        "outputId": "6f463386-eff2-496c-8f4f-f5e99b9ba7c0"
      },
      "source": [
        "# Buscamos las 5 similaridades más grandes\n",
        "max_matching = heapq.nlargest(5, similarities)\n",
        "\n",
        "# Printemos las similaridades\n",
        "print(max_matching)\n",
        "\n",
        "# Encuentra los índices correspondiente a las similaridades más altas\n",
        "max_matching_index = [np.where(similarities == m)[0][0] for m in max_matching]\n",
        "\n",
        "# Imprimimos los datos de las canciones más similares\n",
        "df.iloc[max_matching_index]"
      ],
      "execution_count": null,
      "outputs": [
        {
          "output_type": "stream",
          "name": "stdout",
          "text": [
            "[1.0, 0.29106960468300436, 0.27115818968583616, 0.26208965395800377, 0.25120909841162387]\n"
          ]
        },
        {
          "output_type": "execute_result",
          "data": {
            "text/plain": [
              "                                                    url             titulo  \\\n",
              "3811   https://www.todotango.com/musica/tema/31/Volver/             Volver   \n",
              "3459  https://www.todotango.com/musica/tema/101/Teng...        Tengo miedo   \n",
              "1226  https://www.todotango.com/musica/tema/4002/El-...  El miedo de vivir   \n",
              "953   https://www.todotango.com/musica/tema/690/De-i...   De igual a igual   \n",
              "3834  https://www.todotango.com/musica/tema/2926/Vue...        Vuelve amor   \n",
              "\n",
              "      ritmo           autor_letra          autor_musica  \\\n",
              "3811  Tango       Alfredo Le Pera         Carlos Gardel   \n",
              "3459  Tango      Celedonio Flores    José María Aguilar   \n",
              "1226  Tango       Eladia Blázquez       Eladia Blázquez   \n",
              "953   Tango  Rodolfo Sciammarella  Rodolfo Sciammarella   \n",
              "3834  Tango         Reinaldo Yiso        Roberto Rufino   \n",
              "\n",
              "                                                  letra     ano  \n",
              "3811  Yo adivino el parpadeo de las luces que a lo l...  1935.0  \n",
              "3459  En la timba de la vida me planté con siete y m...  1928.0  \n",
              "1226  El miedo de vivir es el señor y dueño de mucho...  1973.0  \n",
              "953   De tanto y tanto quererla me ha entrado miedo ...  1944.0  \n",
              "3834  ¡Vuelve! Que mi mal es mal de ausencia necesit...     NaN  "
            ],
            "text/html": [
              "\n",
              "  <div id=\"df-712f6b13-92c2-4b11-8c7e-459cc0fb4fe2\">\n",
              "    <div class=\"colab-df-container\">\n",
              "      <div>\n",
              "<style scoped>\n",
              "    .dataframe tbody tr th:only-of-type {\n",
              "        vertical-align: middle;\n",
              "    }\n",
              "\n",
              "    .dataframe tbody tr th {\n",
              "        vertical-align: top;\n",
              "    }\n",
              "\n",
              "    .dataframe thead th {\n",
              "        text-align: right;\n",
              "    }\n",
              "</style>\n",
              "<table border=\"1\" class=\"dataframe\">\n",
              "  <thead>\n",
              "    <tr style=\"text-align: right;\">\n",
              "      <th></th>\n",
              "      <th>url</th>\n",
              "      <th>titulo</th>\n",
              "      <th>ritmo</th>\n",
              "      <th>autor_letra</th>\n",
              "      <th>autor_musica</th>\n",
              "      <th>letra</th>\n",
              "      <th>ano</th>\n",
              "    </tr>\n",
              "  </thead>\n",
              "  <tbody>\n",
              "    <tr>\n",
              "      <th>3811</th>\n",
              "      <td>https://www.todotango.com/musica/tema/31/Volver/</td>\n",
              "      <td>Volver</td>\n",
              "      <td>Tango</td>\n",
              "      <td>Alfredo Le Pera</td>\n",
              "      <td>Carlos Gardel</td>\n",
              "      <td>Yo adivino el parpadeo de las luces que a lo l...</td>\n",
              "      <td>1935.0</td>\n",
              "    </tr>\n",
              "    <tr>\n",
              "      <th>3459</th>\n",
              "      <td>https://www.todotango.com/musica/tema/101/Teng...</td>\n",
              "      <td>Tengo miedo</td>\n",
              "      <td>Tango</td>\n",
              "      <td>Celedonio Flores</td>\n",
              "      <td>José María Aguilar</td>\n",
              "      <td>En la timba de la vida me planté con siete y m...</td>\n",
              "      <td>1928.0</td>\n",
              "    </tr>\n",
              "    <tr>\n",
              "      <th>1226</th>\n",
              "      <td>https://www.todotango.com/musica/tema/4002/El-...</td>\n",
              "      <td>El miedo de vivir</td>\n",
              "      <td>Tango</td>\n",
              "      <td>Eladia Blázquez</td>\n",
              "      <td>Eladia Blázquez</td>\n",
              "      <td>El miedo de vivir es el señor y dueño de mucho...</td>\n",
              "      <td>1973.0</td>\n",
              "    </tr>\n",
              "    <tr>\n",
              "      <th>953</th>\n",
              "      <td>https://www.todotango.com/musica/tema/690/De-i...</td>\n",
              "      <td>De igual a igual</td>\n",
              "      <td>Tango</td>\n",
              "      <td>Rodolfo Sciammarella</td>\n",
              "      <td>Rodolfo Sciammarella</td>\n",
              "      <td>De tanto y tanto quererla me ha entrado miedo ...</td>\n",
              "      <td>1944.0</td>\n",
              "    </tr>\n",
              "    <tr>\n",
              "      <th>3834</th>\n",
              "      <td>https://www.todotango.com/musica/tema/2926/Vue...</td>\n",
              "      <td>Vuelve amor</td>\n",
              "      <td>Tango</td>\n",
              "      <td>Reinaldo Yiso</td>\n",
              "      <td>Roberto Rufino</td>\n",
              "      <td>¡Vuelve! Que mi mal es mal de ausencia necesit...</td>\n",
              "      <td>NaN</td>\n",
              "    </tr>\n",
              "  </tbody>\n",
              "</table>\n",
              "</div>\n",
              "      <button class=\"colab-df-convert\" onclick=\"convertToInteractive('df-712f6b13-92c2-4b11-8c7e-459cc0fb4fe2')\"\n",
              "              title=\"Convert this dataframe to an interactive table.\"\n",
              "              style=\"display:none;\">\n",
              "        \n",
              "  <svg xmlns=\"http://www.w3.org/2000/svg\" height=\"24px\"viewBox=\"0 0 24 24\"\n",
              "       width=\"24px\">\n",
              "    <path d=\"M0 0h24v24H0V0z\" fill=\"none\"/>\n",
              "    <path d=\"M18.56 5.44l.94 2.06.94-2.06 2.06-.94-2.06-.94-.94-2.06-.94 2.06-2.06.94zm-11 1L8.5 8.5l.94-2.06 2.06-.94-2.06-.94L8.5 2.5l-.94 2.06-2.06.94zm10 10l.94 2.06.94-2.06 2.06-.94-2.06-.94-.94-2.06-.94 2.06-2.06.94z\"/><path d=\"M17.41 7.96l-1.37-1.37c-.4-.4-.92-.59-1.43-.59-.52 0-1.04.2-1.43.59L10.3 9.45l-7.72 7.72c-.78.78-.78 2.05 0 2.83L4 21.41c.39.39.9.59 1.41.59.51 0 1.02-.2 1.41-.59l7.78-7.78 2.81-2.81c.8-.78.8-2.07 0-2.86zM5.41 20L4 18.59l7.72-7.72 1.47 1.35L5.41 20z\"/>\n",
              "  </svg>\n",
              "      </button>\n",
              "      \n",
              "  <style>\n",
              "    .colab-df-container {\n",
              "      display:flex;\n",
              "      flex-wrap:wrap;\n",
              "      gap: 12px;\n",
              "    }\n",
              "\n",
              "    .colab-df-convert {\n",
              "      background-color: #E8F0FE;\n",
              "      border: none;\n",
              "      border-radius: 50%;\n",
              "      cursor: pointer;\n",
              "      display: none;\n",
              "      fill: #1967D2;\n",
              "      height: 32px;\n",
              "      padding: 0 0 0 0;\n",
              "      width: 32px;\n",
              "    }\n",
              "\n",
              "    .colab-df-convert:hover {\n",
              "      background-color: #E2EBFA;\n",
              "      box-shadow: 0px 1px 2px rgba(60, 64, 67, 0.3), 0px 1px 3px 1px rgba(60, 64, 67, 0.15);\n",
              "      fill: #174EA6;\n",
              "    }\n",
              "\n",
              "    [theme=dark] .colab-df-convert {\n",
              "      background-color: #3B4455;\n",
              "      fill: #D2E3FC;\n",
              "    }\n",
              "\n",
              "    [theme=dark] .colab-df-convert:hover {\n",
              "      background-color: #434B5C;\n",
              "      box-shadow: 0px 1px 3px 1px rgba(0, 0, 0, 0.15);\n",
              "      filter: drop-shadow(0px 1px 2px rgba(0, 0, 0, 0.3));\n",
              "      fill: #FFFFFF;\n",
              "    }\n",
              "  </style>\n",
              "\n",
              "      <script>\n",
              "        const buttonEl =\n",
              "          document.querySelector('#df-712f6b13-92c2-4b11-8c7e-459cc0fb4fe2 button.colab-df-convert');\n",
              "        buttonEl.style.display =\n",
              "          google.colab.kernel.accessAllowed ? 'block' : 'none';\n",
              "\n",
              "        async function convertToInteractive(key) {\n",
              "          const element = document.querySelector('#df-712f6b13-92c2-4b11-8c7e-459cc0fb4fe2');\n",
              "          const dataTable =\n",
              "            await google.colab.kernel.invokeFunction('convertToInteractive',\n",
              "                                                     [key], {});\n",
              "          if (!dataTable) return;\n",
              "\n",
              "          const docLinkHtml = 'Like what you see? Visit the ' +\n",
              "            '<a target=\"_blank\" href=https://colab.research.google.com/notebooks/data_table.ipynb>data table notebook</a>'\n",
              "            + ' to learn more about interactive tables.';\n",
              "          element.innerHTML = '';\n",
              "          dataTable['output_type'] = 'display_data';\n",
              "          await google.colab.output.renderOutput(dataTable, element);\n",
              "          const docLink = document.createElement('div');\n",
              "          docLink.innerHTML = docLinkHtml;\n",
              "          element.appendChild(docLink);\n",
              "        }\n",
              "      </script>\n",
              "    </div>\n",
              "  </div>\n",
              "  "
            ]
          },
          "metadata": {},
          "execution_count": 20
        }
      ]
    },
    {
      "cell_type": "markdown",
      "metadata": {
        "id": "2FUSteRKrjDO"
      },
      "source": [
        "### Cosas para llevarse de esta notebook\n",
        "\n",
        "LSA es una técnica de reducción dimensional, prácticamente igual a PCA, que consiste en descomponer en valores singulares la matriz de documentos por términos. Esto tiene la ventaja de poder encontrar términos o documentos similares más fácil que en el espacio original.\n",
        "\n",
        "En el paper original se trabaja con la matriz de términos por documentos, buscando hallar términos similares por contexto similar. Pueden probar que trabajar al revés da prácticamente los mismos resultados, solo cambia donde ver la información de los documentos y los términos (si en la matriz transformada o en la información de las componentes)."
      ]
    }
  ]
}