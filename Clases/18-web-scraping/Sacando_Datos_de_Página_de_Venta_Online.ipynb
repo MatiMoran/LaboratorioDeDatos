{
  "nbformat": 4,
  "nbformat_minor": 0,
  "metadata": {
    "colab": {
      "provenance": []
    },
    "kernelspec": {
      "name": "python3",
      "display_name": "Python 3"
    },
    "language_info": {
      "name": "python"
    }
  },
  "cells": [
    {
      "cell_type": "markdown",
      "metadata": {
        "id": "xhHozc-4_JTx"
      },
      "source": [
        "# Uso de Scrapping para Acceder a Publicaciones en Mercado Libre"
      ]
    },
    {
      "cell_type": "markdown",
      "metadata": {
        "id": "uKSzS4_I_SPi"
      },
      "source": [
        "Veamos cómo trabajar para obtener datos de publicaciones de Mercado Libre, dada una determinada búsqueda"
      ]
    },
    {
      "cell_type": "code",
      "metadata": {
        "id": "t4Cvj2MZ_g5P"
      },
      "source": [
        "import requests\n",
        "from bs4 import BeautifulSoup as bs\n",
        "import pandas as pd"
      ],
      "execution_count": null,
      "outputs": []
    },
    {
      "cell_type": "markdown",
      "metadata": {
        "id": "01SSO7fQHqCV"
      },
      "source": [
        "## Busqueda de precios y productos"
      ]
    },
    {
      "cell_type": "markdown",
      "metadata": {
        "id": "LQM7tAwDBoZD"
      },
      "source": [
        "En este caso, vamos a saltear la parte de cómo interactuar con la página para generar el url de la búsqueda y partiremos directamente con el url dado.\n",
        "\n",
        "Buscaremos publicaciones de heladeras...suponiendo que queremos hacer un estudio de mercado sobre heladeras, precios y prestaciones."
      ]
    },
    {
      "cell_type": "code",
      "metadata": {
        "id": "gFcbXNKs_RRv"
      },
      "source": [
        "url = 'https://listado.mercadolibre.com.ar/electrodomesticos/heladeras-freezers/heladeras/heladera#D[A:heladera,on]'\n",
        "search = requests.get(url)\n",
        "search_parseada = bs(search.content, 'html.parser')"
      ],
      "execution_count": null,
      "outputs": []
    },
    {
      "cell_type": "markdown",
      "metadata": {
        "id": "YuHOTUiECOvI"
      },
      "source": [
        "Inspeccionando el html de la página, podemos observar cómo se listan los distintos productos:\n",
        "\n"
      ]
    },
    {
      "cell_type": "code",
      "metadata": {
        "id": "aZ8D2flSAKKx"
      },
      "source": [
        "lista_productos = search_parseada.findAll(name = 'li', attrs = {'class' : 'ui-search-layout__item'}) # Obtebemos todos los productos de la página"
      ],
      "execution_count": null,
      "outputs": []
    },
    {
      "cell_type": "code",
      "metadata": {
        "colab": {
          "base_uri": "https://localhost:8080/"
        },
        "id": "37P3nRX2AMPk",
        "outputId": "75a58c54-82d7-428e-955a-3679464a9b21"
      },
      "source": [
        "len(lista_productos)"
      ],
      "execution_count": null,
      "outputs": [
        {
          "output_type": "execute_result",
          "data": {
            "text/plain": [
              "52"
            ]
          },
          "metadata": {
            "tags": []
          },
          "execution_count": 5
        }
      ]
    },
    {
      "cell_type": "markdown",
      "metadata": {
        "id": "PDpQ67VgDpeA"
      },
      "source": [
        "Vemos un problema si queremos hacer un estudio más profundo... salvo el título de la publicación y el precio, en estos tags no aparece mucha más información.\n",
        "\n",
        "Podríamos tratar de sacar info útil del título, pero teniendo en cuenta que cada producto puede tener una forma de nombrar distitna, puede ser polémico.\n",
        "\n",
        "Accedamos entonces compulsivamente a los precios de los productos"
      ]
    },
    {
      "cell_type": "code",
      "metadata": {
        "colab": {
          "base_uri": "https://localhost:8080/"
        },
        "id": "bOjhAdbkDCkM",
        "outputId": "d91d0a67-5d72-4b27-9a4c-ed0c2eb1a145"
      },
      "source": [
        "nombre = lista_productos[0].find(name = 'h2', attrs = {'class' : 'ui-search-item__title'})\n",
        "precio = lista_productos[0].find(name = 'span', attrs = {'class' : 'price-tag-amount'})\n",
        "print(precio.prettify())\n",
        "print(f'El precio del producto \\033[1m{nombre.text}\\033[0m es: {precio.text}')"
      ],
      "execution_count": null,
      "outputs": [
        {
          "output_type": "stream",
          "text": [
            "<span aria-hidden=\"true\" class=\"price-tag-amount\">\n",
            " <span class=\"price-tag-symbol\">\n",
            "  $\n",
            " </span>\n",
            " <span class=\"price-tag-fraction\">\n",
            "  92.799\n",
            " </span>\n",
            "</span>\n",
            "El precio del producto \u001b[1mHeladera Patrick HPK151M11 black steel con freezer 388L 220V\u001b[0m es: $92.799\n"
          ],
          "name": "stdout"
        }
      ]
    },
    {
      "cell_type": "code",
      "metadata": {
        "colab": {
          "base_uri": "https://localhost:8080/",
          "height": 35
        },
        "id": "BjIi4XMiqhQS",
        "outputId": "b9d1e708-6482-4ab0-f689-18c62af224cc"
      },
      "source": [],
      "execution_count": null,
      "outputs": [
        {
          "output_type": "execute_result",
          "data": {
            "application/vnd.google.colaboratory.intrinsic+json": {
              "type": "string"
            },
            "text/plain": [
              "'$'"
            ]
          },
          "metadata": {
            "tags": []
          },
          "execution_count": 16
        }
      ]
    },
    {
      "cell_type": "markdown",
      "metadata": {
        "id": "MFbdvWqjGw0z"
      },
      "source": [
        "Ahora sí, vamos con todos los productos de la página:\n"
      ]
    },
    {
      "cell_type": "code",
      "metadata": {
        "colab": {
          "base_uri": "https://localhost:8080/"
        },
        "id": "sA9DE0w6Fmtl",
        "outputId": "82bb812b-2e94-4b86-a131-e5b640118c5c"
      },
      "source": [
        "lista_precios = [p.find(name = 'span', attrs = {'class' : 'price-tag-amount'}).text.replace('$','').replace('.','') for p in lista_productos]\n",
        "lista_precios"
      ],
      "execution_count": null,
      "outputs": [
        {
          "output_type": "execute_result",
          "data": {
            "text/plain": [
              "['92799',\n",
              " '91399',\n",
              " '47499',\n",
              " '124999',\n",
              " '90999',\n",
              " '45000',\n",
              " '73199',\n",
              " '195199',\n",
              " '73199',\n",
              " '49900',\n",
              " '64999',\n",
              " '52100',\n",
              " '86999',\n",
              " '175999',\n",
              " '68199',\n",
              " '280499',\n",
              " '57999',\n",
              " '47399',\n",
              " '188999',\n",
              " '102899',\n",
              " '47900',\n",
              " '45799',\n",
              " '44299',\n",
              " '256999',\n",
              " '37349',\n",
              " '39200',\n",
              " '169999',\n",
              " '74599',\n",
              " '51900',\n",
              " '54999',\n",
              " '68900',\n",
              " '64599',\n",
              " '116000',\n",
              " '114066',\n",
              " '74300',\n",
              " '77899',\n",
              " '53700',\n",
              " '40959',\n",
              " '58699',\n",
              " '163999',\n",
              " '104899',\n",
              " '42999',\n",
              " '107699',\n",
              " '183499',\n",
              " '79976',\n",
              " '41889',\n",
              " '46499',\n",
              " '171999',\n",
              " '64999',\n",
              " '90999',\n",
              " '68199',\n",
              " '56590']"
            ]
          },
          "metadata": {
            "tags": []
          },
          "execution_count": 17
        }
      ]
    },
    {
      "cell_type": "markdown",
      "metadata": {
        "id": "5vG2d5IcHIMW"
      },
      "source": [
        "Pero, como ya vimos, estos no son todos los resultados. Cómo paginamos con mercado libre? Podemos modificar el url de la siguiente forma:\n"
      ]
    },
    {
      "cell_type": "code",
      "metadata": {
        "id": "skrSxBNsFrtb"
      },
      "source": [
        "url_pagina_1 = 'https://listado.mercadolibre.com.ar/electrodomesticos/heladeras-freezers/heladeras/heladera_Desde_51'\n",
        "url_pagina_2 = 'https://listado.mercadolibre.com.ar/electrodomesticos/heladeras-freezers/heladeras/heladera_Desde_101'\n",
        "# y así, parece ser que hay que modificar ligeramente el url previo a ir agregando el 51, 101, 151, y así, sumando 50."
      ],
      "execution_count": null,
      "outputs": []
    },
    {
      "cell_type": "markdown",
      "metadata": {
        "id": "ltH77TBCHt6X"
      },
      "source": [
        "## Análisis de un Procuto Particular"
      ]
    },
    {
      "cell_type": "markdown",
      "metadata": {
        "id": "oLtoqW1mHxDO"
      },
      "source": [
        "Veamos ahora cómo hacemos para obtener toda la info de un producto determinado"
      ]
    },
    {
      "cell_type": "code",
      "metadata": {
        "id": "66LTgk8WHj9h"
      },
      "source": [
        "# Veamos la siguiente heladera (la que tengo je)\n",
        "url_producto = 'https://www.mercadolibre.com.ar/heladera-gafa-hgf387af-blanca-con-freezer-374l-220v/p/MLA15231333?pdp_filters=category:MLA398582#searchVariation=MLA15231333&position=1&search_layout=stack&type=product&tracking_id=87d29059-3596-4c2d-991a-07564a7235aa'\n",
        "\n",
        "search_producto = requests.get(url_producto)\n",
        "search_producto_parseada = bs(search_producto.content, 'html.parser')"
      ],
      "execution_count": null,
      "outputs": []
    },
    {
      "cell_type": "code",
      "metadata": {
        "id": "u4GARN4sI8qW"
      },
      "source": [
        "# Busquemos las características que aparecen bajo el título \"Lo que tenés que saber de este producto\"\n",
        "lo_que_hay_que_saber = search_producto_parseada.find(name = 'ul', attrs = {'class' : 'ui-vpp-highlighted-specs__features-list'})"
      ],
      "execution_count": null,
      "outputs": []
    },
    {
      "cell_type": "code",
      "metadata": {
        "colab": {
          "base_uri": "https://localhost:8080/"
        },
        "id": "a9d0baeII_SZ",
        "outputId": "03147211-d947-4ddc-ce4f-d5cbfaf278ef"
      },
      "source": [
        "print(f'Lo que hay que saber del producto \\033[1m{search_producto_parseada.find(name = \"h1\").text}\\033[0m son:')\n",
        "print('\\n'.join([caract.text for caract in lo_que_hay_que_saber.findChildren(name = 'li')]))"
      ],
      "execution_count": null,
      "outputs": [
        {
          "output_type": "stream",
          "text": [
            "Lo que hay que saber del producto \u001b[1mHeladera Gafa HGF387AF blanca con freezer 374L 220V\u001b[0m son:\n",
            "Modelo detallado: HGF387AFB.\n",
            "Tipo de deshielo: cycle defrost.\n",
            "Capacidad de 374 litros.\n",
            "Con freezer superior.\n",
            "Eficiencia energética A.\n",
            "Cuenta con porta huevos.\n",
            "Dimensiones: 61.4 cm de ancho, 180 cm de alto y 62.1 cm de profundidad.\n"
          ],
          "name": "stdout"
        }
      ]
    },
    {
      "cell_type": "code",
      "metadata": {
        "id": "DkanGOs8Kuab"
      },
      "source": [
        "caracteristicas_producto = search_producto_parseada.Modelo(name = 'tbody', attrs = {'class' : 'andes-table__body'})"
      ],
      "execution_count": null,
      "outputs": []
    },
    {
      "cell_type": "code",
      "metadata": {
        "colab": {
          "base_uri": "https://localhost:8080/"
        },
        "id": "ngzh8RmHK1nK",
        "outputId": "aae5dcc4-76a6-4fae-8276-476a388c9f58"
      },
      "source": [
        "print(f'Las características de \\033[1m{search_producto_parseada.find(name = \"h1\").text}\\033[0m son:')\n",
        "for child in caracteristicas_producto.children:\n",
        "    print(child.th.text, child.td.text)"
      ],
      "execution_count": null,
      "outputs": [
        {
          "output_type": "stream",
          "text": [
            "Las características de \u001b[1mHeladera Gafa HGF387AF blanca con freezer 374L 220V\u001b[0m son:\n",
            "Marca Gafa\n",
            "Modelo HGF387AF\n",
            "Color Blanco\n",
            "Voltaje 220V\n",
            "Modelo detallado HGF387AFB\n"
          ],
          "name": "stdout"
        }
      ]
    },
    {
      "cell_type": "code",
      "metadata": {
        "id": "A5GPuLmgLsBj"
      },
      "source": [],
      "execution_count": null,
      "outputs": []
    }
  ]
}