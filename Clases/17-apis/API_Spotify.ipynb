{
  "nbformat": 4,
  "nbformat_minor": 0,
  "metadata": {
    "colab": {
      "provenance": []
    },
    "kernelspec": {
      "name": "python3",
      "display_name": "Python 3"
    },
    "language_info": {
      "name": "python"
    }
  },
  "cells": [
    {
      "cell_type": "markdown",
      "metadata": {
        "id": "HIIDP4grbrX6"
      },
      "source": [
        "# API Spotify\n",
        "\n",
        "A modo de ejemplo de obtener información a través de APIs vamos a usar la de Spotify.\n",
        "\n",
        "El universo de APIs es bastante grande, por lo que puede haber varios detalles propios de cada una que no vamos a poder cubrir. Sin embargo, hay ciertas cosas que vamos a ver aplicadas aquí que van a ser muy similares en otras aplicaciones y por lo tanto se puede ver a grandes rasgos cómo funciona una API."
      ]
    },
    {
      "cell_type": "code",
      "metadata": {
        "id": "fo8LbqJEmDdN"
      },
      "source": [
        "# Importamos la librería requests para hacer peticiones a la API\n",
        "# y json para manipular ese tipo de datos\n",
        "import requests\n",
        "import json"
      ],
      "execution_count": null,
      "outputs": []
    },
    {
      "cell_type": "markdown",
      "metadata": {
        "id": "No9YxcW9dBUM"
      },
      "source": [
        "### Requisitos preliminares para usar la API de Spotify\n",
        "\n",
        "Estos son los pasos que vamos a seguir para obtener las claves que nos van a permitir interactuar con la API. Es requisito tener una cuenta (gratis o premium) en la plataforma. Los pasos son bastante sencillos:\n",
        "\n",
        "- Ir a https://developer.spotify.com/dashboard/applications y loggearse.\n",
        "\n",
        "Este punto se puede generalizar: para familiarizarse con las APIs hay que buscar la sección de desarrolladores (*developers*) de las distintas plataformas. En general, tienen una guía de cómo arrancar.\n",
        "\n",
        "- Dentro del *Dashboard*, creamos una nueva aplicación. Ahí nos va a pedir que le demos un nombre y una descripción.\n",
        "\n",
        "En muchos lados vamos a hacer justamente esto: lo que estaríamos creando es una aplicación dentro de la plataforma. Esta aplicación va a tener distintos permisos y claves para ejecutarlos.\n",
        "\n",
        "- Dentro de la aplicación vamos a obtener un primer conjunto de identificadores y claves. En este caso obtenemos el *client-id* y el *client-secret* (clickear donde dice *show client-secret*).\n",
        "\n",
        "Como dijimos antes, la creación de la aplicación va a venir con un conjunto de claves. A veces estas no son las únicas que vamos a necesitar y vamos a tener que pedir otras (como el *bearer token* que vamos a pedir luego). La forma en la cual se obtienen más claves depende de cada plataforma.\n",
        "\n",
        "Por último, otra cosa general que tenemos que hacer siempre es familiarizarnos con la documentación. Muchas veces esta no es fácil de leer y hay que tener un poco de paciencia y mucha prueba y error. La documentación de la API de Spotify está [aquí](https://developer.spotify.com/documentation/web-api/).\n"
      ]
    },
    {
      "cell_type": "markdown",
      "metadata": {
        "id": "labC7KlWgEu4"
      },
      "source": [
        "#### Primeros pasos: generación del bearer token\n",
        "\n",
        "Como mencionamos, las claves que vienen con la app no son las únicas que vamos a tener que usar. Para usar la API de Spotify vamos a tener que solicitarle una más que se denomina *bearer token*. Se hace de la siguiente manera, usando la librería *requests* para hacer un *post* con las claves de la aplicación:"
      ]
    },
    {
      "cell_type": "code",
      "metadata": {
        "id": "dMimW6kFaJF5"
      },
      "source": [
        "# Claves obtenidas de la app. Estas varían para cada aplicación que crean.\n",
        "# En particular, la aplicación va a ser borrada pronto, con lo cual van a tener\n",
        "# que crear sus propias claves\n",
        "CLIENT_ID = '443b515a44c7481c883ae25f747e80ca'\n",
        "CLIENT_SECRET = 'ba66f38946774f079d64671db8ffca2f'\n",
        "\n",
        "# POST donde le pasamos las clave de la app\n",
        "response = requests.post('https://accounts.spotify.com/api/token', data = {'grant_type': 'client_credentials', 'client_id': CLIENT_ID, 'client_secret': CLIENT_SECRET})"
      ],
      "execution_count": null,
      "outputs": []
    },
    {
      "cell_type": "markdown",
      "metadata": {
        "id": "tzsSDtrA_ari"
      },
      "source": [
        "Podemos ver el status_code a ver si el request fue exitoso o bien hubo algún error o warning:"
      ]
    },
    {
      "cell_type": "code",
      "metadata": {
        "colab": {
          "base_uri": "https://localhost:8080/"
        },
        "id": "a-4BxaQgs3_F",
        "outputId": "cda8a977-ad0f-431d-ea29-86bbea5f7991"
      },
      "source": [
        "# Code del response\n",
        "print(response.status_code)"
      ],
      "execution_count": null,
      "outputs": [
        {
          "output_type": "stream",
          "name": "stdout",
          "text": [
            "200\n"
          ]
        }
      ]
    },
    {
      "cell_type": "markdown",
      "metadata": {
        "id": "D-LwkGJXhNrv"
      },
      "source": [
        "Veamos qué nos devolvió el response en formato json:"
      ]
    },
    {
      "cell_type": "code",
      "metadata": {
        "colab": {
          "base_uri": "https://localhost:8080/"
        },
        "id": "ugRJ61PWhROQ",
        "outputId": "a05ad320-ca16-4f24-b3da-1994254c881c"
      },
      "source": [
        "print(response.json())"
      ],
      "execution_count": null,
      "outputs": [
        {
          "output_type": "stream",
          "name": "stdout",
          "text": [
            "{'access_token': 'BQCnj1EuU2iNn3gI5ct8MWEDNiHG-csABIIYjLurLc3x5bTyn_1ruwmdhtd0Z9nHZ5y4USvXUqgi2q0yhpJoGU3_faUzZaDLLeMBzHWnF4dElpceAMw', 'token_type': 'Bearer', 'expires_in': 3600}\n"
          ]
        }
      ]
    },
    {
      "cell_type": "markdown",
      "metadata": {
        "id": "I0KMP1ZmhckE"
      },
      "source": [
        "Aquí vemos que el nos devolvió un *token* y nos dice que precisamente es el *bearer token*. Guardamos estos datos para usarlos después en cada petición a la API. Con este *token* ya estamos!"
      ]
    },
    {
      "cell_type": "code",
      "metadata": {
        "id": "i0FyZCYHamKv"
      },
      "source": [
        "# Guardamos el bearer token para usarlo en las peticiones de la API\n",
        "access_token = response.json()['access_token']"
      ],
      "execution_count": null,
      "outputs": []
    },
    {
      "cell_type": "markdown",
      "source": [
        "Creamos un diccionario con las credenciales que luego le vamos a pasar al requests."
      ],
      "metadata": {
        "id": "Ql_AMn1wMe8p"
      }
    },
    {
      "cell_type": "code",
      "source": [
        "# Acá le pasamos el token que obtuvimos antes. Lo demás son algunas cosas generales que suelen ir\n",
        "headers = {'Authorization': 'Bearer {}'.format(access_token), 'Accept': 'application/json', 'Content-Type': 'application/json'}"
      ],
      "metadata": {
        "id": "029qDZ3wMa5B"
      },
      "execution_count": null,
      "outputs": []
    },
    {
      "cell_type": "markdown",
      "metadata": {
        "id": "b3jglvZOh71y"
      },
      "source": [
        "### Petición de datos\n",
        "\n",
        "Listo, acá arranca lo divertido! Vamos a pedirle datos a la API! Esto lo vamos a hacer con método *get* de *requests*. En todos los casos le vamos a pasar el *access_token* como un encabezado y los parámetros necesarios para hacer la petición. Lo único que tenemos que tener presente es cómo se llaman los puntos a los que les vamos a pedir la información. Esto nuevamente lo tienen que sacar de la documentación, en particular de [acá](https://developer.spotify.com/documentation/web-api/reference/)."
      ]
    },
    {
      "cell_type": "markdown",
      "metadata": {
        "id": "KXDN7mo2lsdI"
      },
      "source": [
        "#### Datos de una canción\n",
        "\n",
        "Veamos cómo pedirle datos de una canción cuyo *id* conocemos."
      ]
    },
    {
      "cell_type": "code",
      "metadata": {
        "colab": {
          "base_uri": "https://localhost:8080/"
        },
        "id": "w3JtKbVZlxfR",
        "outputId": "e0b41cdd-d3e2-4a45-860f-a4789cc1e4f5"
      },
      "source": [
        "# Este id corresponde a \"Promesas sobre el bidet - Charly García\"\n",
        "# https://open.spotify.com/album/17utekM9a95MchXbkbh47k?highlight=spotify:track:2MXqrO1RBfek6RoijghYYp\n",
        "# Ver que el id del track aparece en la url de la canción\n",
        "track_id = '2MXqrO1RBfek6RoijghYYp'\n",
        "\n",
        "# End point para obtener información de la canción. Esto se saca de la referencia de la documentación\n",
        "url = 'https://api.spotify.com/v1/tracks/{}'.format(track_id)\n",
        "\n",
        "# En este caso no lleva ningún parámetro, el id de la canción va directamente en el url\n",
        "response = requests.get(url, params = {}, headers = headers)\n",
        "\n",
        "# Vemos el json de la respuesta\n",
        "json_data = response.json()\n",
        "\n",
        "# Esto lo devuelve en un formato más fácil de leer\n",
        "print(json.dumps(json_data, indent = 4))"
      ],
      "execution_count": null,
      "outputs": [
        {
          "output_type": "stream",
          "name": "stdout",
          "text": [
            "{\n",
            "    \"album\": {\n",
            "        \"album_type\": \"album\",\n",
            "        \"artists\": [\n",
            "            {\n",
            "                \"external_urls\": {\n",
            "                    \"spotify\": \"https://open.spotify.com/artist/3jO7X5KupvwmWTHGtHgcgo\"\n",
            "                },\n",
            "                \"href\": \"https://api.spotify.com/v1/artists/3jO7X5KupvwmWTHGtHgcgo\",\n",
            "                \"id\": \"3jO7X5KupvwmWTHGtHgcgo\",\n",
            "                \"name\": \"Charly Garc\\u00eda\",\n",
            "                \"type\": \"artist\",\n",
            "                \"uri\": \"spotify:artist:3jO7X5KupvwmWTHGtHgcgo\"\n",
            "            }\n",
            "        ],\n",
            "        \"available_markets\": [\n",
            "            \"AD\",\n",
            "            \"AE\",\n",
            "            \"AG\",\n",
            "            \"AL\",\n",
            "            \"AM\",\n",
            "            \"AO\",\n",
            "            \"AR\",\n",
            "            \"AT\",\n",
            "            \"AU\",\n",
            "            \"AZ\",\n",
            "            \"BA\",\n",
            "            \"BB\",\n",
            "            \"BD\",\n",
            "            \"BE\",\n",
            "            \"BF\",\n",
            "            \"BG\",\n",
            "            \"BH\",\n",
            "            \"BI\",\n",
            "            \"BJ\",\n",
            "            \"BN\",\n",
            "            \"BO\",\n",
            "            \"BR\",\n",
            "            \"BS\",\n",
            "            \"BT\",\n",
            "            \"BW\",\n",
            "            \"BY\",\n",
            "            \"BZ\",\n",
            "            \"CA\",\n",
            "            \"CD\",\n",
            "            \"CG\",\n",
            "            \"CH\",\n",
            "            \"CI\",\n",
            "            \"CL\",\n",
            "            \"CM\",\n",
            "            \"CO\",\n",
            "            \"CR\",\n",
            "            \"CV\",\n",
            "            \"CW\",\n",
            "            \"CY\",\n",
            "            \"CZ\",\n",
            "            \"DE\",\n",
            "            \"DJ\",\n",
            "            \"DK\",\n",
            "            \"DM\",\n",
            "            \"DO\",\n",
            "            \"DZ\",\n",
            "            \"EC\",\n",
            "            \"EE\",\n",
            "            \"EG\",\n",
            "            \"ES\",\n",
            "            \"FI\",\n",
            "            \"FJ\",\n",
            "            \"FM\",\n",
            "            \"FR\",\n",
            "            \"GA\",\n",
            "            \"GB\",\n",
            "            \"GD\",\n",
            "            \"GE\",\n",
            "            \"GH\",\n",
            "            \"GM\",\n",
            "            \"GN\",\n",
            "            \"GQ\",\n",
            "            \"GR\",\n",
            "            \"GT\",\n",
            "            \"GW\",\n",
            "            \"GY\",\n",
            "            \"HK\",\n",
            "            \"HN\",\n",
            "            \"HR\",\n",
            "            \"HT\",\n",
            "            \"HU\",\n",
            "            \"ID\",\n",
            "            \"IE\",\n",
            "            \"IL\",\n",
            "            \"IN\",\n",
            "            \"IQ\",\n",
            "            \"IS\",\n",
            "            \"IT\",\n",
            "            \"JM\",\n",
            "            \"JO\",\n",
            "            \"JP\",\n",
            "            \"KE\",\n",
            "            \"KG\",\n",
            "            \"KH\",\n",
            "            \"KI\",\n",
            "            \"KM\",\n",
            "            \"KN\",\n",
            "            \"KR\",\n",
            "            \"KW\",\n",
            "            \"KZ\",\n",
            "            \"LA\",\n",
            "            \"LB\",\n",
            "            \"LC\",\n",
            "            \"LI\",\n",
            "            \"LK\",\n",
            "            \"LR\",\n",
            "            \"LS\",\n",
            "            \"LT\",\n",
            "            \"LU\",\n",
            "            \"LV\",\n",
            "            \"LY\",\n",
            "            \"MA\",\n",
            "            \"MC\",\n",
            "            \"MD\",\n",
            "            \"ME\",\n",
            "            \"MG\",\n",
            "            \"MH\",\n",
            "            \"MK\",\n",
            "            \"ML\",\n",
            "            \"MN\",\n",
            "            \"MO\",\n",
            "            \"MR\",\n",
            "            \"MT\",\n",
            "            \"MU\",\n",
            "            \"MV\",\n",
            "            \"MW\",\n",
            "            \"MX\",\n",
            "            \"MY\",\n",
            "            \"MZ\",\n",
            "            \"NA\",\n",
            "            \"NE\",\n",
            "            \"NG\",\n",
            "            \"NI\",\n",
            "            \"NL\",\n",
            "            \"NO\",\n",
            "            \"NP\",\n",
            "            \"NR\",\n",
            "            \"NZ\",\n",
            "            \"OM\",\n",
            "            \"PA\",\n",
            "            \"PE\",\n",
            "            \"PG\",\n",
            "            \"PH\",\n",
            "            \"PK\",\n",
            "            \"PL\",\n",
            "            \"PS\",\n",
            "            \"PT\",\n",
            "            \"PW\",\n",
            "            \"PY\",\n",
            "            \"QA\",\n",
            "            \"RO\",\n",
            "            \"RS\",\n",
            "            \"RW\",\n",
            "            \"SA\",\n",
            "            \"SB\",\n",
            "            \"SC\",\n",
            "            \"SE\",\n",
            "            \"SG\",\n",
            "            \"SI\",\n",
            "            \"SK\",\n",
            "            \"SL\",\n",
            "            \"SM\",\n",
            "            \"SN\",\n",
            "            \"SR\",\n",
            "            \"ST\",\n",
            "            \"SV\",\n",
            "            \"SZ\",\n",
            "            \"TD\",\n",
            "            \"TG\",\n",
            "            \"TH\",\n",
            "            \"TJ\",\n",
            "            \"TL\",\n",
            "            \"TN\",\n",
            "            \"TO\",\n",
            "            \"TR\",\n",
            "            \"TT\",\n",
            "            \"TV\",\n",
            "            \"TW\",\n",
            "            \"TZ\",\n",
            "            \"UA\",\n",
            "            \"UG\",\n",
            "            \"US\",\n",
            "            \"UY\",\n",
            "            \"UZ\",\n",
            "            \"VC\",\n",
            "            \"VE\",\n",
            "            \"VN\",\n",
            "            \"VU\",\n",
            "            \"WS\",\n",
            "            \"XK\",\n",
            "            \"ZA\",\n",
            "            \"ZM\",\n",
            "            \"ZW\"\n",
            "        ],\n",
            "        \"external_urls\": {\n",
            "            \"spotify\": \"https://open.spotify.com/album/17utekM9a95MchXbkbh47k\"\n",
            "        },\n",
            "        \"href\": \"https://api.spotify.com/v1/albums/17utekM9a95MchXbkbh47k\",\n",
            "        \"id\": \"17utekM9a95MchXbkbh47k\",\n",
            "        \"images\": [\n",
            "            {\n",
            "                \"height\": 640,\n",
            "                \"url\": \"https://i.scdn.co/image/ab67616d0000b273a89f53c13537b933a43d2600\",\n",
            "                \"width\": 640\n",
            "            },\n",
            "            {\n",
            "                \"height\": 300,\n",
            "                \"url\": \"https://i.scdn.co/image/ab67616d00001e02a89f53c13537b933a43d2600\",\n",
            "                \"width\": 300\n",
            "            },\n",
            "            {\n",
            "                \"height\": 64,\n",
            "                \"url\": \"https://i.scdn.co/image/ab67616d00004851a89f53c13537b933a43d2600\",\n",
            "                \"width\": 64\n",
            "            }\n",
            "        ],\n",
            "        \"name\": \"Piano Bar\",\n",
            "        \"release_date\": \"1984-01-01\",\n",
            "        \"release_date_precision\": \"day\",\n",
            "        \"total_tracks\": 11,\n",
            "        \"type\": \"album\",\n",
            "        \"uri\": \"spotify:album:17utekM9a95MchXbkbh47k\"\n",
            "    },\n",
            "    \"artists\": [\n",
            "        {\n",
            "            \"external_urls\": {\n",
            "                \"spotify\": \"https://open.spotify.com/artist/3jO7X5KupvwmWTHGtHgcgo\"\n",
            "            },\n",
            "            \"href\": \"https://api.spotify.com/v1/artists/3jO7X5KupvwmWTHGtHgcgo\",\n",
            "            \"id\": \"3jO7X5KupvwmWTHGtHgcgo\",\n",
            "            \"name\": \"Charly Garc\\u00eda\",\n",
            "            \"type\": \"artist\",\n",
            "            \"uri\": \"spotify:artist:3jO7X5KupvwmWTHGtHgcgo\"\n",
            "        }\n",
            "    ],\n",
            "    \"available_markets\": [\n",
            "        \"AD\",\n",
            "        \"AE\",\n",
            "        \"AG\",\n",
            "        \"AL\",\n",
            "        \"AM\",\n",
            "        \"AO\",\n",
            "        \"AR\",\n",
            "        \"AT\",\n",
            "        \"AU\",\n",
            "        \"AZ\",\n",
            "        \"BA\",\n",
            "        \"BB\",\n",
            "        \"BD\",\n",
            "        \"BE\",\n",
            "        \"BF\",\n",
            "        \"BG\",\n",
            "        \"BH\",\n",
            "        \"BI\",\n",
            "        \"BJ\",\n",
            "        \"BN\",\n",
            "        \"BO\",\n",
            "        \"BR\",\n",
            "        \"BS\",\n",
            "        \"BT\",\n",
            "        \"BW\",\n",
            "        \"BY\",\n",
            "        \"BZ\",\n",
            "        \"CA\",\n",
            "        \"CD\",\n",
            "        \"CG\",\n",
            "        \"CH\",\n",
            "        \"CI\",\n",
            "        \"CL\",\n",
            "        \"CM\",\n",
            "        \"CO\",\n",
            "        \"CR\",\n",
            "        \"CV\",\n",
            "        \"CW\",\n",
            "        \"CY\",\n",
            "        \"CZ\",\n",
            "        \"DE\",\n",
            "        \"DJ\",\n",
            "        \"DK\",\n",
            "        \"DM\",\n",
            "        \"DO\",\n",
            "        \"DZ\",\n",
            "        \"EC\",\n",
            "        \"EE\",\n",
            "        \"EG\",\n",
            "        \"ES\",\n",
            "        \"FI\",\n",
            "        \"FJ\",\n",
            "        \"FM\",\n",
            "        \"FR\",\n",
            "        \"GA\",\n",
            "        \"GB\",\n",
            "        \"GD\",\n",
            "        \"GE\",\n",
            "        \"GH\",\n",
            "        \"GM\",\n",
            "        \"GN\",\n",
            "        \"GQ\",\n",
            "        \"GR\",\n",
            "        \"GT\",\n",
            "        \"GW\",\n",
            "        \"GY\",\n",
            "        \"HK\",\n",
            "        \"HN\",\n",
            "        \"HR\",\n",
            "        \"HT\",\n",
            "        \"HU\",\n",
            "        \"ID\",\n",
            "        \"IE\",\n",
            "        \"IL\",\n",
            "        \"IN\",\n",
            "        \"IQ\",\n",
            "        \"IS\",\n",
            "        \"IT\",\n",
            "        \"JM\",\n",
            "        \"JO\",\n",
            "        \"JP\",\n",
            "        \"KE\",\n",
            "        \"KG\",\n",
            "        \"KH\",\n",
            "        \"KI\",\n",
            "        \"KM\",\n",
            "        \"KN\",\n",
            "        \"KR\",\n",
            "        \"KW\",\n",
            "        \"KZ\",\n",
            "        \"LA\",\n",
            "        \"LB\",\n",
            "        \"LC\",\n",
            "        \"LI\",\n",
            "        \"LK\",\n",
            "        \"LR\",\n",
            "        \"LS\",\n",
            "        \"LT\",\n",
            "        \"LU\",\n",
            "        \"LV\",\n",
            "        \"LY\",\n",
            "        \"MA\",\n",
            "        \"MC\",\n",
            "        \"MD\",\n",
            "        \"ME\",\n",
            "        \"MG\",\n",
            "        \"MH\",\n",
            "        \"MK\",\n",
            "        \"ML\",\n",
            "        \"MN\",\n",
            "        \"MO\",\n",
            "        \"MR\",\n",
            "        \"MT\",\n",
            "        \"MU\",\n",
            "        \"MV\",\n",
            "        \"MW\",\n",
            "        \"MX\",\n",
            "        \"MY\",\n",
            "        \"MZ\",\n",
            "        \"NA\",\n",
            "        \"NE\",\n",
            "        \"NG\",\n",
            "        \"NI\",\n",
            "        \"NL\",\n",
            "        \"NO\",\n",
            "        \"NP\",\n",
            "        \"NR\",\n",
            "        \"NZ\",\n",
            "        \"OM\",\n",
            "        \"PA\",\n",
            "        \"PE\",\n",
            "        \"PG\",\n",
            "        \"PH\",\n",
            "        \"PK\",\n",
            "        \"PL\",\n",
            "        \"PS\",\n",
            "        \"PT\",\n",
            "        \"PW\",\n",
            "        \"PY\",\n",
            "        \"QA\",\n",
            "        \"RO\",\n",
            "        \"RS\",\n",
            "        \"RW\",\n",
            "        \"SA\",\n",
            "        \"SB\",\n",
            "        \"SC\",\n",
            "        \"SE\",\n",
            "        \"SG\",\n",
            "        \"SI\",\n",
            "        \"SK\",\n",
            "        \"SL\",\n",
            "        \"SM\",\n",
            "        \"SN\",\n",
            "        \"SR\",\n",
            "        \"ST\",\n",
            "        \"SV\",\n",
            "        \"SZ\",\n",
            "        \"TD\",\n",
            "        \"TG\",\n",
            "        \"TH\",\n",
            "        \"TJ\",\n",
            "        \"TL\",\n",
            "        \"TN\",\n",
            "        \"TO\",\n",
            "        \"TR\",\n",
            "        \"TT\",\n",
            "        \"TV\",\n",
            "        \"TW\",\n",
            "        \"TZ\",\n",
            "        \"UA\",\n",
            "        \"UG\",\n",
            "        \"US\",\n",
            "        \"UY\",\n",
            "        \"UZ\",\n",
            "        \"VC\",\n",
            "        \"VE\",\n",
            "        \"VN\",\n",
            "        \"VU\",\n",
            "        \"WS\",\n",
            "        \"XK\",\n",
            "        \"ZA\",\n",
            "        \"ZM\",\n",
            "        \"ZW\"\n",
            "    ],\n",
            "    \"disc_number\": 1,\n",
            "    \"duration_ms\": 164360,\n",
            "    \"explicit\": false,\n",
            "    \"external_ids\": {\n",
            "        \"isrc\": \"ARF140300027\"\n",
            "    },\n",
            "    \"external_urls\": {\n",
            "        \"spotify\": \"https://open.spotify.com/track/2MXqrO1RBfek6RoijghYYp\"\n",
            "    },\n",
            "    \"href\": \"https://api.spotify.com/v1/tracks/2MXqrO1RBfek6RoijghYYp\",\n",
            "    \"id\": \"2MXqrO1RBfek6RoijghYYp\",\n",
            "    \"is_local\": false,\n",
            "    \"name\": \"Promesas Sobre El Bidet\",\n",
            "    \"popularity\": 61,\n",
            "    \"preview_url\": null,\n",
            "    \"track_number\": 2,\n",
            "    \"type\": \"track\",\n",
            "    \"uri\": \"spotify:track:2MXqrO1RBfek6RoijghYYp\"\n",
            "}\n"
          ]
        }
      ]
    },
    {
      "cell_type": "markdown",
      "metadata": {
        "id": "2sjknN7HmsI5"
      },
      "source": [
        "Vemos que obtenemos varias cosas: además de la información de la canción como la duración y el nombre, tenemos información del disco en qué mercado está, e información del artista."
      ]
    },
    {
      "cell_type": "markdown",
      "metadata": {
        "id": "-idVw_vZjAm8"
      },
      "source": [
        "#### Audio Features\n",
        "\n",
        "Características de las canciones analizadas con algún programa de la plataforma. Esto nos devuelve algunos *features* interesantes. Se hace especificando el *id* de una canción que podemos averiguar de reproducir la canción de Spotify al *end point* que especificamos abajo:"
      ]
    },
    {
      "cell_type": "code",
      "metadata": {
        "colab": {
          "base_uri": "https://localhost:8080/"
        },
        "id": "y9fHbsoqaxyi",
        "outputId": "42e0aefa-6237-49b3-ce63-8d0739570f48"
      },
      "source": [
        "# Este id corresponde a \"Promesas sobre el bidet - Charly García\"\n",
        "# https://open.spotify.com/album/17utekM9a95MchXbkbh47k?highlight=spotify:track:2MXqrO1RBfek6RoijghYYp\n",
        "# Ver que el id del track aparece en la url de la canción\n",
        "track_id = '2MXqrO1RBfek6RoijghYYp'\n",
        "\n",
        "# End point para obtener los audio features. Esto se saca de la referencia de la documentación\n",
        "url = 'https://api.spotify.com/v1/audio-features/{}'.format(track_id)\n",
        "\n",
        "# En este caso no lleva ningún parámetro, el id de la canción va directamente en el url\n",
        "response = requests.get(url, params = {}, headers = headers)\n",
        "\n",
        "# Vemos el json de la respuesta\n",
        "json_data = response.json()\n",
        "\n",
        "# Esto lo devuelve en un formato más fácil de leer\n",
        "print(json.dumps(json_data, indent = 4))"
      ],
      "execution_count": null,
      "outputs": [
        {
          "output_type": "stream",
          "name": "stdout",
          "text": [
            "{\n",
            "    \"danceability\": 0.786,\n",
            "    \"energy\": 0.621,\n",
            "    \"key\": 7,\n",
            "    \"loudness\": -9.805,\n",
            "    \"mode\": 0,\n",
            "    \"speechiness\": 0.0282,\n",
            "    \"acousticness\": 0.576,\n",
            "    \"instrumentalness\": 0.000403,\n",
            "    \"liveness\": 0.123,\n",
            "    \"valence\": 0.54,\n",
            "    \"tempo\": 111.459,\n",
            "    \"type\": \"audio_features\",\n",
            "    \"id\": \"2MXqrO1RBfek6RoijghYYp\",\n",
            "    \"uri\": \"spotify:track:2MXqrO1RBfek6RoijghYYp\",\n",
            "    \"track_href\": \"https://api.spotify.com/v1/tracks/2MXqrO1RBfek6RoijghYYp\",\n",
            "    \"analysis_url\": \"https://api.spotify.com/v1/audio-analysis/2MXqrO1RBfek6RoijghYYp\",\n",
            "    \"duration_ms\": 164360,\n",
            "    \"time_signature\": 4\n",
            "}\n"
          ]
        }
      ]
    },
    {
      "cell_type": "markdown",
      "metadata": {
        "id": "V278axrjnaeW"
      },
      "source": [
        "#### Búsqueda de un artista\n",
        "\n",
        "Podemos buscar información de un artista. Acá lo hacemos con el *end_point* \"search\"."
      ]
    },
    {
      "cell_type": "code",
      "metadata": {
        "colab": {
          "base_uri": "https://localhost:8080/"
        },
        "id": "L-SO6G3ha2zR",
        "outputId": "96927421-69d0-47d0-dfd5-5e3a288559f2"
      },
      "source": [
        "# End point para obtener los audio features. Esto se saca de la referencia de la documentación\n",
        "url = 'https://api.spotify.com/v1/search'\n",
        "\n",
        "# Búsqueda. Acá sí hay que pasarselo como parámetros\n",
        "params = {'q': 'Wos', 'type': 'artist', 'market': 'AR', 'limit': '5' }\n",
        "\n",
        "# En este caso no lleva ningún parámetro, el id de la canción va directamente en el url\n",
        "response = requests.get(url, params = params, headers = headers)\n",
        "\n",
        "# Vemos el json de la respuesta\n",
        "json_data = response.json()\n",
        "\n",
        "# Esto lo devuelve en un formato más fácil de leer\n",
        "print(json.dumps(json_data, indent = 4))"
      ],
      "execution_count": null,
      "outputs": [
        {
          "output_type": "stream",
          "name": "stdout",
          "text": [
            "{\n",
            "    \"artists\": {\n",
            "        \"href\": \"https://api.spotify.com/v1/search?query=Wos&type=artist&market=AR&offset=0&limit=5\",\n",
            "        \"items\": [\n",
            "            {\n",
            "                \"external_urls\": {\n",
            "                    \"spotify\": \"https://open.spotify.com/artist/5YCc6xS5Gpj3EkaYGdjyNK\"\n",
            "                },\n",
            "                \"followers\": {\n",
            "                    \"href\": null,\n",
            "                    \"total\": 3100074\n",
            "                },\n",
            "                \"genres\": [\n",
            "                    \"argentine indie\",\n",
            "                    \"trap argentino\"\n",
            "                ],\n",
            "                \"href\": \"https://api.spotify.com/v1/artists/5YCc6xS5Gpj3EkaYGdjyNK\",\n",
            "                \"id\": \"5YCc6xS5Gpj3EkaYGdjyNK\",\n",
            "                \"images\": [\n",
            "                    {\n",
            "                        \"height\": 640,\n",
            "                        \"url\": \"https://i.scdn.co/image/ab6761610000e5eb632866253c99e4531985aa1a\",\n",
            "                        \"width\": 640\n",
            "                    },\n",
            "                    {\n",
            "                        \"height\": 320,\n",
            "                        \"url\": \"https://i.scdn.co/image/ab67616100005174632866253c99e4531985aa1a\",\n",
            "                        \"width\": 320\n",
            "                    },\n",
            "                    {\n",
            "                        \"height\": 160,\n",
            "                        \"url\": \"https://i.scdn.co/image/ab6761610000f178632866253c99e4531985aa1a\",\n",
            "                        \"width\": 160\n",
            "                    }\n",
            "                ],\n",
            "                \"name\": \"WOS\",\n",
            "                \"popularity\": 71,\n",
            "                \"type\": \"artist\",\n",
            "                \"uri\": \"spotify:artist:5YCc6xS5Gpj3EkaYGdjyNK\"\n",
            "            },\n",
            "            {\n",
            "                \"external_urls\": {\n",
            "                    \"spotify\": \"https://open.spotify.com/artist/2Z3hX6FBCtTfjx8chQ6Mer\"\n",
            "                },\n",
            "                \"followers\": {\n",
            "                    \"href\": null,\n",
            "                    \"total\": 3557\n",
            "                },\n",
            "                \"genres\": [\n",
            "                    \"rap canario\"\n",
            "                ],\n",
            "                \"href\": \"https://api.spotify.com/v1/artists/2Z3hX6FBCtTfjx8chQ6Mer\",\n",
            "                \"id\": \"2Z3hX6FBCtTfjx8chQ6Mer\",\n",
            "                \"images\": [\n",
            "                    {\n",
            "                        \"height\": 640,\n",
            "                        \"url\": \"https://i.scdn.co/image/ab6761610000e5ebb2b84841140e4a8d1a0a8f07\",\n",
            "                        \"width\": 640\n",
            "                    },\n",
            "                    {\n",
            "                        \"height\": 320,\n",
            "                        \"url\": \"https://i.scdn.co/image/ab67616100005174b2b84841140e4a8d1a0a8f07\",\n",
            "                        \"width\": 320\n",
            "                    },\n",
            "                    {\n",
            "                        \"height\": 160,\n",
            "                        \"url\": \"https://i.scdn.co/image/ab6761610000f178b2b84841140e4a8d1a0a8f07\",\n",
            "                        \"width\": 160\n",
            "                    }\n",
            "                ],\n",
            "                \"name\": \"Wos LasPalmas\",\n",
            "                \"popularity\": 48,\n",
            "                \"type\": \"artist\",\n",
            "                \"uri\": \"spotify:artist:2Z3hX6FBCtTfjx8chQ6Mer\"\n",
            "            },\n",
            "            {\n",
            "                \"external_urls\": {\n",
            "                    \"spotify\": \"https://open.spotify.com/artist/2x7PC78TmgqpEIjaGAZ0Oz\"\n",
            "                },\n",
            "                \"followers\": {\n",
            "                    \"href\": null,\n",
            "                    \"total\": 4052048\n",
            "                },\n",
            "                \"genres\": [\n",
            "                    \"argentine hip hop\",\n",
            "                    \"bases de freestyle\",\n",
            "                    \"trap argentino\",\n",
            "                    \"trap latino\"\n",
            "                ],\n",
            "                \"href\": \"https://api.spotify.com/v1/artists/2x7PC78TmgqpEIjaGAZ0Oz\",\n",
            "                \"id\": \"2x7PC78TmgqpEIjaGAZ0Oz\",\n",
            "                \"images\": [\n",
            "                    {\n",
            "                        \"height\": 640,\n",
            "                        \"url\": \"https://i.scdn.co/image/ab6761610000e5eb18af5b851999c50e3b7b1cb4\",\n",
            "                        \"width\": 640\n",
            "                    },\n",
            "                    {\n",
            "                        \"height\": 320,\n",
            "                        \"url\": \"https://i.scdn.co/image/ab6761610000517418af5b851999c50e3b7b1cb4\",\n",
            "                        \"width\": 320\n",
            "                    },\n",
            "                    {\n",
            "                        \"height\": 160,\n",
            "                        \"url\": \"https://i.scdn.co/image/ab6761610000f17818af5b851999c50e3b7b1cb4\",\n",
            "                        \"width\": 160\n",
            "                    }\n",
            "                ],\n",
            "                \"name\": \"Trueno\",\n",
            "                \"popularity\": 74,\n",
            "                \"type\": \"artist\",\n",
            "                \"uri\": \"spotify:artist:2x7PC78TmgqpEIjaGAZ0Oz\"\n",
            "            },\n",
            "            {\n",
            "                \"external_urls\": {\n",
            "                    \"spotify\": \"https://open.spotify.com/artist/3kdAt1M24OsazoncWOFlFf\"\n",
            "                },\n",
            "                \"followers\": {\n",
            "                    \"href\": null,\n",
            "                    \"total\": 554\n",
            "                },\n",
            "                \"genres\": [],\n",
            "                \"href\": \"https://api.spotify.com/v1/artists/3kdAt1M24OsazoncWOFlFf\",\n",
            "                \"id\": \"3kdAt1M24OsazoncWOFlFf\",\n",
            "                \"images\": [\n",
            "                    {\n",
            "                        \"height\": 640,\n",
            "                        \"url\": \"https://i.scdn.co/image/ab6761610000e5eb1237f4d76d7dd3806c84eea8\",\n",
            "                        \"width\": 640\n",
            "                    },\n",
            "                    {\n",
            "                        \"height\": 320,\n",
            "                        \"url\": \"https://i.scdn.co/image/ab676161000051741237f4d76d7dd3806c84eea8\",\n",
            "                        \"width\": 320\n",
            "                    },\n",
            "                    {\n",
            "                        \"height\": 160,\n",
            "                        \"url\": \"https://i.scdn.co/image/ab6761610000f1781237f4d76d7dd3806c84eea8\",\n",
            "                        \"width\": 160\n",
            "                    }\n",
            "                ],\n",
            "                \"name\": \"WOST\",\n",
            "                \"popularity\": 24,\n",
            "                \"type\": \"artist\",\n",
            "                \"uri\": \"spotify:artist:3kdAt1M24OsazoncWOFlFf\"\n",
            "            },\n",
            "            {\n",
            "                \"external_urls\": {\n",
            "                    \"spotify\": \"https://open.spotify.com/artist/3QArVFjHI7TaOuEgyjcoYe\"\n",
            "                },\n",
            "                \"followers\": {\n",
            "                    \"href\": null,\n",
            "                    \"total\": 13\n",
            "                },\n",
            "                \"genres\": [],\n",
            "                \"href\": \"https://api.spotify.com/v1/artists/3QArVFjHI7TaOuEgyjcoYe\",\n",
            "                \"id\": \"3QArVFjHI7TaOuEgyjcoYe\",\n",
            "                \"images\": [\n",
            "                    {\n",
            "                        \"height\": 640,\n",
            "                        \"url\": \"https://i.scdn.co/image/ab67616d0000b2730638c5b422605025a7a2b5e1\",\n",
            "                        \"width\": 640\n",
            "                    },\n",
            "                    {\n",
            "                        \"height\": 300,\n",
            "                        \"url\": \"https://i.scdn.co/image/ab67616d00001e020638c5b422605025a7a2b5e1\",\n",
            "                        \"width\": 300\n",
            "                    },\n",
            "                    {\n",
            "                        \"height\": 64,\n",
            "                        \"url\": \"https://i.scdn.co/image/ab67616d000048510638c5b422605025a7a2b5e1\",\n",
            "                        \"width\": 64\n",
            "                    }\n",
            "                ],\n",
            "                \"name\": \"Ivo Wosco\",\n",
            "                \"popularity\": 16,\n",
            "                \"type\": \"artist\",\n",
            "                \"uri\": \"spotify:artist:3QArVFjHI7TaOuEgyjcoYe\"\n",
            "            }\n",
            "        ],\n",
            "        \"limit\": 5,\n",
            "        \"next\": \"https://api.spotify.com/v1/search?query=Wos&type=artist&market=AR&offset=5&limit=5\",\n",
            "        \"offset\": 0,\n",
            "        \"previous\": null,\n",
            "        \"total\": 317\n",
            "    }\n",
            "}\n"
          ]
        }
      ]
    },
    {
      "cell_type": "markdown",
      "metadata": {
        "id": "QwXmIUWlp4TX"
      },
      "source": [
        "#### Inspección de los datos\n",
        "\n",
        "Como ven la cantidad de cosas que se pueden hacer son varias. Manipulemos un poco los datos para ver cómo trabajaríamos:"
      ]
    },
    {
      "cell_type": "code",
      "metadata": {
        "colab": {
          "base_uri": "https://localhost:8080/"
        },
        "id": "ADa5kZtzodCz",
        "outputId": "1c1c32b7-7dd3-425a-c6f4-8dd2d1e81818"
      },
      "source": [
        "# Tipo de dato del json\n",
        "print(type(json_data))"
      ],
      "execution_count": null,
      "outputs": [
        {
          "output_type": "stream",
          "name": "stdout",
          "text": [
            "<class 'dict'>\n"
          ]
        }
      ]
    },
    {
      "cell_type": "code",
      "metadata": {
        "colab": {
          "base_uri": "https://localhost:8080/"
        },
        "id": "FDXvsy2BozIE",
        "outputId": "eb785a26-1733-423b-a263-1ec2c8994585"
      },
      "source": [
        "# Keys del diccionario\n",
        "print(json_data.keys())"
      ],
      "execution_count": null,
      "outputs": [
        {
          "output_type": "stream",
          "name": "stdout",
          "text": [
            "dict_keys(['artists'])\n"
          ]
        }
      ]
    },
    {
      "cell_type": "code",
      "metadata": {
        "colab": {
          "base_uri": "https://localhost:8080/"
        },
        "id": "ij-ORqg7pGH6",
        "outputId": "3097d683-b49f-43f4-8897-2e0aac901dee"
      },
      "source": [
        "# Cantidad de artistas que encontró que coinciden con nuestra query\n",
        "json_data['artists']"
      ],
      "execution_count": null,
      "outputs": [
        {
          "output_type": "execute_result",
          "data": {
            "text/plain": [
              "{'href': 'https://api.spotify.com/v1/search?query=Wos&type=artist&market=AR&offset=0&limit=5',\n",
              " 'items': [{'external_urls': {'spotify': 'https://open.spotify.com/artist/5YCc6xS5Gpj3EkaYGdjyNK'},\n",
              "   'followers': {'href': None, 'total': 3100074},\n",
              "   'genres': ['argentine indie', 'trap argentino'],\n",
              "   'href': 'https://api.spotify.com/v1/artists/5YCc6xS5Gpj3EkaYGdjyNK',\n",
              "   'id': '5YCc6xS5Gpj3EkaYGdjyNK',\n",
              "   'images': [{'height': 640,\n",
              "     'url': 'https://i.scdn.co/image/ab6761610000e5eb632866253c99e4531985aa1a',\n",
              "     'width': 640},\n",
              "    {'height': 320,\n",
              "     'url': 'https://i.scdn.co/image/ab67616100005174632866253c99e4531985aa1a',\n",
              "     'width': 320},\n",
              "    {'height': 160,\n",
              "     'url': 'https://i.scdn.co/image/ab6761610000f178632866253c99e4531985aa1a',\n",
              "     'width': 160}],\n",
              "   'name': 'WOS',\n",
              "   'popularity': 71,\n",
              "   'type': 'artist',\n",
              "   'uri': 'spotify:artist:5YCc6xS5Gpj3EkaYGdjyNK'},\n",
              "  {'external_urls': {'spotify': 'https://open.spotify.com/artist/2Z3hX6FBCtTfjx8chQ6Mer'},\n",
              "   'followers': {'href': None, 'total': 3557},\n",
              "   'genres': ['rap canario'],\n",
              "   'href': 'https://api.spotify.com/v1/artists/2Z3hX6FBCtTfjx8chQ6Mer',\n",
              "   'id': '2Z3hX6FBCtTfjx8chQ6Mer',\n",
              "   'images': [{'height': 640,\n",
              "     'url': 'https://i.scdn.co/image/ab6761610000e5ebb2b84841140e4a8d1a0a8f07',\n",
              "     'width': 640},\n",
              "    {'height': 320,\n",
              "     'url': 'https://i.scdn.co/image/ab67616100005174b2b84841140e4a8d1a0a8f07',\n",
              "     'width': 320},\n",
              "    {'height': 160,\n",
              "     'url': 'https://i.scdn.co/image/ab6761610000f178b2b84841140e4a8d1a0a8f07',\n",
              "     'width': 160}],\n",
              "   'name': 'Wos LasPalmas',\n",
              "   'popularity': 48,\n",
              "   'type': 'artist',\n",
              "   'uri': 'spotify:artist:2Z3hX6FBCtTfjx8chQ6Mer'},\n",
              "  {'external_urls': {'spotify': 'https://open.spotify.com/artist/2x7PC78TmgqpEIjaGAZ0Oz'},\n",
              "   'followers': {'href': None, 'total': 4052048},\n",
              "   'genres': ['argentine hip hop',\n",
              "    'bases de freestyle',\n",
              "    'trap argentino',\n",
              "    'trap latino'],\n",
              "   'href': 'https://api.spotify.com/v1/artists/2x7PC78TmgqpEIjaGAZ0Oz',\n",
              "   'id': '2x7PC78TmgqpEIjaGAZ0Oz',\n",
              "   'images': [{'height': 640,\n",
              "     'url': 'https://i.scdn.co/image/ab6761610000e5eb18af5b851999c50e3b7b1cb4',\n",
              "     'width': 640},\n",
              "    {'height': 320,\n",
              "     'url': 'https://i.scdn.co/image/ab6761610000517418af5b851999c50e3b7b1cb4',\n",
              "     'width': 320},\n",
              "    {'height': 160,\n",
              "     'url': 'https://i.scdn.co/image/ab6761610000f17818af5b851999c50e3b7b1cb4',\n",
              "     'width': 160}],\n",
              "   'name': 'Trueno',\n",
              "   'popularity': 74,\n",
              "   'type': 'artist',\n",
              "   'uri': 'spotify:artist:2x7PC78TmgqpEIjaGAZ0Oz'},\n",
              "  {'external_urls': {'spotify': 'https://open.spotify.com/artist/3kdAt1M24OsazoncWOFlFf'},\n",
              "   'followers': {'href': None, 'total': 554},\n",
              "   'genres': [],\n",
              "   'href': 'https://api.spotify.com/v1/artists/3kdAt1M24OsazoncWOFlFf',\n",
              "   'id': '3kdAt1M24OsazoncWOFlFf',\n",
              "   'images': [{'height': 640,\n",
              "     'url': 'https://i.scdn.co/image/ab6761610000e5eb1237f4d76d7dd3806c84eea8',\n",
              "     'width': 640},\n",
              "    {'height': 320,\n",
              "     'url': 'https://i.scdn.co/image/ab676161000051741237f4d76d7dd3806c84eea8',\n",
              "     'width': 320},\n",
              "    {'height': 160,\n",
              "     'url': 'https://i.scdn.co/image/ab6761610000f1781237f4d76d7dd3806c84eea8',\n",
              "     'width': 160}],\n",
              "   'name': 'WOST',\n",
              "   'popularity': 24,\n",
              "   'type': 'artist',\n",
              "   'uri': 'spotify:artist:3kdAt1M24OsazoncWOFlFf'},\n",
              "  {'external_urls': {'spotify': 'https://open.spotify.com/artist/3QArVFjHI7TaOuEgyjcoYe'},\n",
              "   'followers': {'href': None, 'total': 13},\n",
              "   'genres': [],\n",
              "   'href': 'https://api.spotify.com/v1/artists/3QArVFjHI7TaOuEgyjcoYe',\n",
              "   'id': '3QArVFjHI7TaOuEgyjcoYe',\n",
              "   'images': [{'height': 640,\n",
              "     'url': 'https://i.scdn.co/image/ab67616d0000b2730638c5b422605025a7a2b5e1',\n",
              "     'width': 640},\n",
              "    {'height': 300,\n",
              "     'url': 'https://i.scdn.co/image/ab67616d00001e020638c5b422605025a7a2b5e1',\n",
              "     'width': 300},\n",
              "    {'height': 64,\n",
              "     'url': 'https://i.scdn.co/image/ab67616d000048510638c5b422605025a7a2b5e1',\n",
              "     'width': 64}],\n",
              "   'name': 'Ivo Wosco',\n",
              "   'popularity': 16,\n",
              "   'type': 'artist',\n",
              "   'uri': 'spotify:artist:3QArVFjHI7TaOuEgyjcoYe'}],\n",
              " 'limit': 5,\n",
              " 'next': 'https://api.spotify.com/v1/search?query=Wos&type=artist&market=AR&offset=5&limit=5',\n",
              " 'offset': 0,\n",
              " 'previous': None,\n",
              " 'total': 317}"
            ]
          },
          "metadata": {},
          "execution_count": 30
        }
      ]
    },
    {
      "cell_type": "code",
      "metadata": {
        "colab": {
          "base_uri": "https://localhost:8080/"
        },
        "id": "_OpIFrILpKiw",
        "outputId": "8bda643f-896d-4828-b7d2-dce13eced545"
      },
      "source": [
        "# Nombre y género musical del primer artista\n",
        "print(json_data['artists']['items'][0]['name'])\n",
        "print(json_data['artists']['items'][0]['genres'])"
      ],
      "execution_count": null,
      "outputs": [
        {
          "output_type": "stream",
          "name": "stdout",
          "text": [
            "WOS\n",
            "['argentine indie', 'trap argentino']\n"
          ]
        }
      ]
    },
    {
      "cell_type": "markdown",
      "metadata": {
        "id": "zHuuoSkxqIk-"
      },
      "source": [
        "### Consejo final\n",
        "\n",
        "Para ver qué se puede extraer de Spotify vean las [referencias de las API](https://developer.spotify.com/documentation/web-api/reference/), que son bastante fácil de leer y claras en cómo se llamar a los diferentes puntos. Además una buena herramienta que tiene incorporada en la posibilidad de simular los diferentes *requests* en la página, lo cual nos da un buen feeling para armar nuestro código."
      ]
    }
  ]
}