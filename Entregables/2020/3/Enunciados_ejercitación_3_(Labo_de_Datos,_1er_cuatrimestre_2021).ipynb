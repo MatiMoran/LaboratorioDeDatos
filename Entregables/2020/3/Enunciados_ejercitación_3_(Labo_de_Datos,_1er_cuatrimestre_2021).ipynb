{
  "nbformat": 4,
  "nbformat_minor": 0,
  "metadata": {
    "colab": {
      "provenance": []
    },
    "kernelspec": {
      "name": "python3",
      "display_name": "Python 3"
    },
    "language_info": {
      "name": "python"
    }
  },
  "cells": [
    {
      "cell_type": "markdown",
      "metadata": {
        "id": "-n5hJNbCiyAD"
      },
      "source": [
        "# Tercera ejercitación de Laboratorio de Datos (1er cuatrimestre 2021)\n",
        "\n",
        "\n",
        "***Fecha de entrega de consigna: 21/5/2021 en horario de clase***\n",
        "\n",
        "***Fecha de entrega de resolución: 1/6/2021 a las 23:55 PM***\n",
        "\n",
        "***Que hay que hacer***: Más abajo hay una serie de consignas (\"pasos\") que gradualmente guían al objetivo de la ejercitación. Cada paso tiene además una ayuda. Hay que ir haciendo lo que pedimos en esos pasos hasta completar la ejercitación.\n",
        "\n",
        "***Cómo hay que hacerlo***: Cada alumno tiene que crear y compartir un notebook individual con la resolución, el cual se llame \"Ejercitacion 3\" seguido de su nombre y apellido. En el campus virtual compartimos instrucciones para la entrega de ejercicios. El notebook tiene que contener código que al ejecutarse haga lo que pedimos, y texto comentando lo que ustedes consideren necesario para que nosotros entendamos lo que hicieron.\n",
        "\n",
        "***Qué pasa después***: Nosotros evaluamos los notebooks de cada uno y los tenemos en cuenta para calcular la nota final. El día siguiente a la fecha límite de entrega, publicamos un notebook junto con nuestra resolución de la ejecitación para que puedan comparar con lo que ustedes hicieron.\n",
        "\n",
        "***Qué hago si no me sale***: Consultarnos las dudas que tengan en el foro de la materia que se encuentra en el campus virtual.\n",
        "\n",
        "***RECUERDEN QUE ES OBLIGATORIO ENTREGAR UN NOTEBOOK PARA CONTINUAR CON LA MATERIA***\n",
        "\n",
        "---\n",
        "\n",
        "# Consigna\n",
        "\n",
        "El objetivo de este tercer TP es aplicar técnicas de reducción de la dimensión, para luego usar las dimensiones reducidas con el propósito de hacer un clustering de los datos en grupos. Finalmente, usar las etiquetas obtenidas de ese clustering para clasificar nuevos datos.\n",
        "\n",
        "Por lo tanto, en la primera parte vamos a usar técnicas de **aprendizaje no supervisado** que nos van a permitir revelar estructura en los datos aún si no tenemos ningún tipo de etiqueta sobre los mismos. Luego, usamos esa información para entrenar un modelo de **aprendizaje supervisado** con el propósito de clasificar nuevos ejemplos. Este tipo de esquema es útil cuando tenemos que desarrollar un clasificador a partir de datos sobre los cuales no conocemos suficiente como para etiquetarlos.\n",
        "\n",
        "---\n",
        "\n",
        "En este TP vamos a necesitar el dataset \"fashion-mnist\" (https://github.com/zalandoresearch/fashion-mnist).\n",
        "\n",
        "Recordemos que el dataset consta de 70000 imágenes de 28x28 píxeles en escala de grises divididas en 10 clases:\n",
        "\n",
        "![download.png](data:image/png;base64,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)\n",
        "\n",
        "Podemos usar el siguiente código para cargar los datos:"
      ]
    },
    {
      "cell_type": "code",
      "metadata": {
        "id": "B96uxzkvTBda",
        "colab": {
          "base_uri": "https://localhost:8080/"
        },
        "outputId": "1a3e38df-e613-4e19-d897-c0fb4bd02d27"
      },
      "source": [
        "from keras.datasets import mnist,fashion_mnist\n",
        "\n",
        "(X_train_raw, y_train), (X_test_raw, y_test) = fashion_mnist.load_data()  # cargo los dataset de entrenamiento y testeo\n",
        "\n",
        "# reshapeamos para obtener un vector de 784 elementos (features) por cada imagen (samples)\n",
        "X_train = X_train_raw.reshape(60000, -1) # no tocamos el numero de samples, 60000, pero reshapeamos las demas dimensiones\n",
        "X_test = X_test_raw.reshape(10000, -1) # no tocamos el numero de samples, 60000, pero reshapeamos las demas dimensiones\n",
        "\n",
        "X_train = X_train.astype('float32') # transformamos el tipo de datos a \"float32\"\n",
        "X_test = X_test.astype('float32') # transformamos el tipo de datos a \"float32\"\n",
        "\n",
        "# normalizamos por el maximo valor que pueden tener los pixels para que los valores queden entre 0 y 1\n",
        "X_train = X_train/255.0\n",
        "X_test = X_test/255.0\n",
        "\n",
        "# print the final input shape ready for training\n",
        "print(\"Matriz de entrenamiento shape\", X_train.shape)\n",
        "print(\"Matriz de testeo shape\", X_test.shape)"
      ],
      "execution_count": null,
      "outputs": [
        {
          "output_type": "stream",
          "text": [
            "Downloading data from https://storage.googleapis.com/tensorflow/tf-keras-datasets/train-labels-idx1-ubyte.gz\n",
            "32768/29515 [=================================] - 0s 0us/step\n",
            "Downloading data from https://storage.googleapis.com/tensorflow/tf-keras-datasets/train-images-idx3-ubyte.gz\n",
            "26427392/26421880 [==============================] - 0s 0us/step\n",
            "Downloading data from https://storage.googleapis.com/tensorflow/tf-keras-datasets/t10k-labels-idx1-ubyte.gz\n",
            "8192/5148 [===============================================] - 0s 0us/step\n",
            "Downloading data from https://storage.googleapis.com/tensorflow/tf-keras-datasets/t10k-images-idx3-ubyte.gz\n",
            "4423680/4422102 [==============================] - 0s 0us/step\n",
            "Matriz de entrenamiento shape (60000, 784)\n",
            "Matriz de testeo shape (10000, 784)\n"
          ],
          "name": "stdout"
        }
      ]
    },
    {
      "cell_type": "markdown",
      "metadata": {
        "id": "ZIwBCCWWlMDu"
      },
      "source": [
        "Hecho esto, tenemos separados los datos en el conjunto de entrenamiento y evaluación con sus etiquetas correspondientes.\n",
        "\n",
        "**Primer paso**: Hacer PCA sobre la matrix de datos de entrenamiento.\n",
        "\n",
        "**Segundo paso**: Obtener y plotear la varianza explicada por cada componente y la varianza explicada acumulada vs. número de componentes.\n",
        "\n",
        "**Tercer paso**: Visualizar las primeros cinco componentes en orden de varianza explicada\n",
        "\n",
        "**Ayuda**: El vector correspondiente a la enésima componente principal está en...\n",
        "\n",
        "```\n",
        "pca.components_[n]\n",
        "```\n",
        "... y podemos visualizarla usando el comando de pyplot:\n",
        "\n",
        "\n",
        "```\n",
        "plt.imshow()\n",
        "```\n",
        "Pero antes tenemos que volver a transformarlo a las dimensiones de 28 por 28 de las imágenes originales.\n",
        "\n",
        "**Cuarto paso**: Elegir algunas de las imágenes al azar y mostrar la reconstrucción obtenida usando 2, 10, 25, 50 y 100 componentes.\n",
        "\n",
        "**Ayuda**: Este código se puede adaptar de la segunda parte del notebook de PCA que vimos en clase.\n",
        "\n",
        "**Quinto paso**: Visualizar los datos en un espacio de dimensión reducida formado por la 1era vs. la 2da componentes principales, usando scatterplot.\n",
        "\n",
        "**Sexto paso**: Hacer k-means con k=2 sobre los datos del espacio 2D formado por la primera y segunda componente principal. Visualizar algunos ejemplos correspondientes a cada uno de los clusters para entender a dónde fue a parar cada tipo de prenda en los clusters.\n",
        "\n",
        "**Séptimo paso**: Usando los ids del clustering como etiquetas, entrenar un modelo KNN (K=5) usando los datos de entrenamiento (con todos los features, no solo las primeras dos componentes principales).\n",
        "\n",
        "**Octavo paso**: Armar un nuevo vector de etiquetas que reemplace a y_test, y tenga 0 donde pensamos que ese ejemplo iría al cluster 0 y 1 donde pensamos que iría al cluster 1 (los clusters que obtuvimos con k-means).\n",
        "\n",
        "**Ayuda**: Hacer esto por inspección visual. Típicamente deberían separarse las prendas de vestir tipo remeras, buzos, sweaters, camisas, zapatos en un cluster, y zapatos, zapatillas y bolsas en el otro cluster.\n",
        "\n",
        "**Noveno paso**: Ahora aplicar el modelo KNN a datos del dataset de evaluación. Hacerlo con los primeros 1000 (sino puede tardar mucho). Usando las ids obtenidas mediante el procedimiento del paso anterior, y las predichas por KNN, construir una matriz de confusión para evaluar la performance del clasificador KNN.\n",
        "\n",
        "\n"
      ]
    }
  ]
}