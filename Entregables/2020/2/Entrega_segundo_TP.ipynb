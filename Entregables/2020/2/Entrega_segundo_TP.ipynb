{
  "nbformat": 4,
  "nbformat_minor": 0,
  "metadata": {
    "colab": {
      "provenance": []
    },
    "kernelspec": {
      "name": "python3",
      "display_name": "Python 3"
    },
    "language_info": {
      "name": "python"
    }
  },
  "cells": [
    {
      "cell_type": "markdown",
      "metadata": {
        "id": "xKyGfyHvRmuM"
      },
      "source": [
        "# Entregando el segundo TP obligatorio\n",
        "\n",
        "Este notebook sirve como instrucción para la entrega del segundo TP obligatorio.\n",
        "\n",
        "Hasta ahora, ustedes construyeron un modelo sobre los datos de entrenamiento.\n",
        "\n",
        "Vamos a cargar esos datos y construir un modelo muy sencillo para ilustrar el proceso."
      ]
    },
    {
      "cell_type": "code",
      "metadata": {
        "id": "octT6HTLRltQ"
      },
      "source": [
        "import pandas as pd\n",
        "import numpy as np\n",
        "\n",
        "from google.colab import drive\n",
        "drive.mount('/content/drive')\n",
        "path = '/content/drive/My Drive/anticoncepcion_indonesia.csv'\n",
        "df = pd.read_csv(path)\n",
        "\n",
        "df['target'] = 0\n",
        "ind = np.logical_or(df['metodo_anticonceptivo']==2,df['metodo_anticonceptivo']==3)\n",
        "df['target'][ind] = 1\n"
      ],
      "execution_count": null,
      "outputs": []
    },
    {
      "cell_type": "markdown",
      "metadata": {
        "id": "6a0tyekTT2HQ"
      },
      "source": [
        "Ahora construimos el modelo. En este caso lo único que voy a hacer es una regresión logística estándar con todos los campos tal como vienen."
      ]
    },
    {
      "cell_type": "code",
      "metadata": {
        "id": "GUwd_Zd6UEu9"
      },
      "source": [
        "from sklearn.linear_model import LogisticRegression\n",
        "\n",
        "campos = ['edad_mujer', 'educacion_mujer', 'educacion_hombre', 'numero_hijos','religion_mujer', 'mujer_trabaja', 'ocupacion_hombre', 'nivel_vida', 'exposicion_medios']\n",
        "X = np.array(df[campos])\n",
        "y = np.array(df['target'])\n",
        "clf = LogisticRegression(penalty='none')\n",
        "clf.fit(X,y)\n"
      ],
      "execution_count": null,
      "outputs": []
    },
    {
      "cell_type": "markdown",
      "metadata": {
        "id": "NJ81Tl-rU12R"
      },
      "source": [
        "**Hasta acá es lo que Uds. tienen hecho, obviamente con su propio modelo**\n",
        "\n",
        "Lo que viene a continuación es lo que tienen que hacer para enviarnos sus predicciones.\n",
        "\n",
        "Primero, tienen que cargar el archivo anticoncepcion_indonesia_test.csv que está en el drive (recuerden, si es necesario, crearse un acceso directo, como siempre).\n",
        "\n"
      ]
    },
    {
      "cell_type": "code",
      "metadata": {
        "colab": {
          "base_uri": "https://localhost:8080/"
        },
        "id": "Gwl7_dbWVQc8",
        "outputId": "9f1f0073-765f-45df-f243-af92ef5c6a69"
      },
      "source": [
        "path = '/content/drive/My Drive/anticoncepcion_indonesia_test.csv'\n",
        "df_test = pd.read_csv(path)\n",
        "df_test.columns"
      ],
      "execution_count": null,
      "outputs": [
        {
          "output_type": "execute_result",
          "data": {
            "text/plain": [
              "Index(['edad_mujer', 'educacion_mujer', 'educacion_hombre', 'numero_hijos',\n",
              "       'religion_mujer', 'mujer_trabaja', 'ocupacion_hombre', 'nivel_vida',\n",
              "       'exposicion_medios'],\n",
              "      dtype='object')"
            ]
          },
          "metadata": {
            "tags": []
          },
          "execution_count": 16
        }
      ]
    },
    {
      "cell_type": "markdown",
      "metadata": {
        "id": "V5hxoYU3WTi2"
      },
      "source": [
        "Vemos que obviamente falta la columna que queremos predecir.\n",
        "\n",
        "Ahora, Uds. arman la matriz de features tal como la construyeron para su modelo, incluyendo la selección que hayan armado, o el agregado de nuevos features, etc. En nuestro ejemplo es simplemente agarrar todas las columnas."
      ]
    },
    {
      "cell_type": "code",
      "metadata": {
        "id": "Bnp3RSkxWptQ"
      },
      "source": [
        "campos = ['edad_mujer', 'educacion_mujer', 'educacion_hombre', 'numero_hijos','religion_mujer', 'mujer_trabaja', 'ocupacion_hombre', 'nivel_vida', 'exposicion_medios']\n",
        "X_test = np.array(df_test[campos])"
      ],
      "execution_count": null,
      "outputs": []
    },
    {
      "cell_type": "markdown",
      "metadata": {
        "id": "CqZ22mDVWvzB"
      },
      "source": [
        "Luego, predecimos las **probabilidades** (no las etiquetas binarias) usando el modelo que entrenamos."
      ]
    },
    {
      "cell_type": "code",
      "metadata": {
        "colab": {
          "base_uri": "https://localhost:8080/"
        },
        "id": "SNRm2z5uW2Uj",
        "outputId": "2c7243bd-a78f-496e-cf0b-b668be53081b"
      },
      "source": [
        "probas = clf.predict_proba(X_test)\n",
        "print(probas)"
      ],
      "execution_count": null,
      "outputs": [
        {
          "output_type": "stream",
          "text": [
            "[[0.86807207 0.13192793]\n",
            " [0.76678661 0.23321339]\n",
            " [0.67457411 0.32542589]\n",
            " ...\n",
            " [0.97043551 0.02956449]\n",
            " [0.94890928 0.05109072]\n",
            " [0.80438369 0.19561631]]\n"
          ],
          "name": "stdout"
        }
      ]
    },
    {
      "cell_type": "markdown",
      "metadata": {
        "id": "5qQE_1e_W_cA"
      },
      "source": [
        "**La matriz de dos columnas que obtenemos de output es lo que hay que entregar.**\n",
        "\n",
        "Para hacerlo, guardamos en algún drive un archivo csv con esto, luego lo bajamos, y lo mandamos por mail al profesor (o sea, a mi) a tagliazucchi.enzo@googlemail.com, con el titulo \"Entrega segundo TP\" y el adjunto correspondiente. **Por favor, que el adjunto tenga su nombre y apellido.**\n",
        "\n",
        "En mi caso, como tengo acceso a la carpeta del Labo de datos, lo guardo simplemente ahí y luego lo bajo."
      ]
    },
    {
      "cell_type": "code",
      "metadata": {
        "id": "gJs_YP0FXcr6"
      },
      "source": [
        "save_path= '/content/drive/My Drive/LaboDatos2021/Enzo_Tagliazucchi.csv' # acá uds. van a tener que poner un directorio suyo en drive, porque no tienen permisos de escribir en el directorio LaboDatos2021\n",
        "\n",
        "np.savetxt(save_path, probas, delimiter=\",\")"
      ],
      "execution_count": null,
      "outputs": []
    },
    {
      "cell_type": "markdown",
      "metadata": {
        "id": "V1MfLSn1Znae"
      },
      "source": [
        "Con esto ya podemos calcular el AUC de su modelo. En este caso, sin hacer nada, obtuvimos 0.69194. ¡Espero que el de Uds de mucho mejor!\n",
        "\n",
        "Algunos comentarios finales:\n",
        "\n",
        "*   Tienen todo el fin de semana (hasta 23:59 del Domingo) para subir sus predicciones y participar del fabuloso torneo.\n",
        "*   Si no llegan a subirlas, y las suben más adelante, avisen por mail. Les damos el AUC igual y el TP cuenta como entregado.\n",
        "*   Para participar lo que nos manden tiene que estar en el formato pedido. Si hay, por ejemplo, menos filas de las necesarias o algo similar entonces no podemos calcular el AUC.\n",
        "\n",
        "\n",
        "\n",
        "\n"
      ]
    }
  ]
}