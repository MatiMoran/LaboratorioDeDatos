{
  "nbformat": 4,
  "nbformat_minor": 0,
  "metadata": {
    "colab": {
      "provenance": []
    },
    "kernelspec": {
      "name": "python3",
      "display_name": "Python 3"
    },
    "language_info": {
      "name": "python"
    }
  },
  "cells": [
    {
      "cell_type": "code",
      "metadata": {
        "colab": {
          "base_uri": "https://localhost:8080/",
          "height": 213
        },
        "id": "D-KaYr9c6kvQ",
        "outputId": "504f895c-b3f5-4a6b-9f97-965be59cd5bb"
      },
      "source": [
        "from google.colab import drive # Para montar nuestro drive en la consola\n",
        "import matplotlib.pylab as plt # Para gráficos\n",
        "import numpy as np # Para manejo de arrays, operaciones matemáticas, etc.\n",
        "from sklearn.linear_model import LogisticRegression # El método de regresión logística que vamos a usar\n",
        "import pandas as pd # Para manejo de base de datos\n",
        "from sklearn.metrics import confusion_matrix # matriz de confusion\n",
        "\n",
        "drive.mount('/content/drive') # Montamos nuestra unidad de Google Drive\n",
        "filename = '/content/drive/My Drive/anticoncepcion_indonesia.csv'\n",
        "\n",
        "d = pd.read_csv(filename) # Levanto los datos\n",
        "d.head() # Veo las primeras líneas"
      ],
      "execution_count": null,
      "outputs": [
        {
          "output_type": "stream",
          "text": [
            "Mounted at /content/drive\n"
          ],
          "name": "stdout"
        },
        {
          "output_type": "execute_result",
          "data": {
            "text/html": [
              "<div>\n",
              "<style scoped>\n",
              "    .dataframe tbody tr th:only-of-type {\n",
              "        vertical-align: middle;\n",
              "    }\n",
              "\n",
              "    .dataframe tbody tr th {\n",
              "        vertical-align: top;\n",
              "    }\n",
              "\n",
              "    .dataframe thead th {\n",
              "        text-align: right;\n",
              "    }\n",
              "</style>\n",
              "<table border=\"1\" class=\"dataframe\">\n",
              "  <thead>\n",
              "    <tr style=\"text-align: right;\">\n",
              "      <th></th>\n",
              "      <th>edad_mujer</th>\n",
              "      <th>educacion_mujer</th>\n",
              "      <th>educacion_hombre</th>\n",
              "      <th>numero_hijos</th>\n",
              "      <th>religion_mujer</th>\n",
              "      <th>mujer_trabaja</th>\n",
              "      <th>ocupacion_hombre</th>\n",
              "      <th>nivel_vida</th>\n",
              "      <th>exposicion_medios</th>\n",
              "      <th>metodo_anticonceptivo</th>\n",
              "    </tr>\n",
              "  </thead>\n",
              "  <tbody>\n",
              "    <tr>\n",
              "      <th>0</th>\n",
              "      <td>35</td>\n",
              "      <td>3</td>\n",
              "      <td>4</td>\n",
              "      <td>3</td>\n",
              "      <td>1</td>\n",
              "      <td>1</td>\n",
              "      <td>2</td>\n",
              "      <td>2</td>\n",
              "      <td>0</td>\n",
              "      <td>2</td>\n",
              "    </tr>\n",
              "    <tr>\n",
              "      <th>1</th>\n",
              "      <td>29</td>\n",
              "      <td>4</td>\n",
              "      <td>4</td>\n",
              "      <td>3</td>\n",
              "      <td>1</td>\n",
              "      <td>1</td>\n",
              "      <td>1</td>\n",
              "      <td>4</td>\n",
              "      <td>0</td>\n",
              "      <td>2</td>\n",
              "    </tr>\n",
              "    <tr>\n",
              "      <th>2</th>\n",
              "      <td>21</td>\n",
              "      <td>4</td>\n",
              "      <td>4</td>\n",
              "      <td>1</td>\n",
              "      <td>1</td>\n",
              "      <td>1</td>\n",
              "      <td>2</td>\n",
              "      <td>3</td>\n",
              "      <td>0</td>\n",
              "      <td>3</td>\n",
              "    </tr>\n",
              "    <tr>\n",
              "      <th>3</th>\n",
              "      <td>26</td>\n",
              "      <td>3</td>\n",
              "      <td>4</td>\n",
              "      <td>3</td>\n",
              "      <td>1</td>\n",
              "      <td>1</td>\n",
              "      <td>3</td>\n",
              "      <td>2</td>\n",
              "      <td>0</td>\n",
              "      <td>3</td>\n",
              "    </tr>\n",
              "    <tr>\n",
              "      <th>4</th>\n",
              "      <td>45</td>\n",
              "      <td>3</td>\n",
              "      <td>4</td>\n",
              "      <td>6</td>\n",
              "      <td>1</td>\n",
              "      <td>1</td>\n",
              "      <td>2</td>\n",
              "      <td>4</td>\n",
              "      <td>0</td>\n",
              "      <td>1</td>\n",
              "    </tr>\n",
              "  </tbody>\n",
              "</table>\n",
              "</div>"
            ],
            "text/plain": [
              "   edad_mujer  educacion_mujer  ...  exposicion_medios  metodo_anticonceptivo\n",
              "0          35                3  ...                  0                      2\n",
              "1          29                4  ...                  0                      2\n",
              "2          21                4  ...                  0                      3\n",
              "3          26                3  ...                  0                      3\n",
              "4          45                3  ...                  0                      1\n",
              "\n",
              "[5 rows x 10 columns]"
            ]
          },
          "metadata": {
            "tags": []
          },
          "execution_count": 1
        }
      ]
    },
    {
      "cell_type": "code",
      "metadata": {
        "colab": {
          "base_uri": "https://localhost:8080/"
        },
        "id": "KDJ0lNAK6mqU",
        "outputId": "08149f85-7bbb-4c95-992f-2481ceb1f135"
      },
      "source": [
        "d_filtrado=d.copy()\n",
        "d_filtrado['Toma Anticonceptivos'] = 0\n",
        "indice =  d_filtrado['metodo_anticonceptivo'] > 1\n",
        "d_filtrado.loc[indice, 'Toma Anticonceptivos'] = 1\n",
        "\n",
        "d_filtrado['Toma Anticonceptivos'].value_counts()\n",
        "#d_filtrado.head()"
      ],
      "execution_count": null,
      "outputs": [
        {
          "output_type": "execute_result",
          "data": {
            "text/plain": [
              "1    165\n",
              "0    131\n",
              "Name: Toma Anticonceptivos, dtype: int64"
            ]
          },
          "metadata": {
            "tags": []
          },
          "execution_count": 2
        }
      ]
    },
    {
      "cell_type": "markdown",
      "metadata": {
        "id": "rCoNTTZadR9I"
      },
      "source": [
        "Fui limpiando el notebook mientras lo iba haciendo porque la verdad que mucho no sabía lo que hacía, asique voy a describir lo que me acuerdo que probé.\n",
        "\n",
        "Primero armé la columna que indica si toma o no anticonceptivos.\n",
        "\n",
        "Después fui probando y cambiando cosas del modelo, cambié los pesos, probé hacer 5 folds, armé el histograma, como en clase, para analizar cuantos features eran convenientes y también para ver si usaba o no potencias de X, de eso saqué la conclusión de que 6 features eran lo mejor (y saque exposición a los medios y ocupación del hombre), y solo tener en cuenta X y X^2, porque sino overfitteaba.\n",
        "\n",
        "Probé el mapa de color de la clase para definir la constante de regularización del modelo y me pareció que c=16 era como mejor resultaba.\n"
      ]
    },
    {
      "cell_type": "code",
      "metadata": {
        "colab": {
          "base_uri": "https://localhost:8080/"
        },
        "id": "1QrLb7qVF2XL",
        "outputId": "be3609fd-f27b-40a2-fb90-0533103b063f"
      },
      "source": [
        "from sklearn.model_selection import StratifiedKFold\n",
        "\n",
        "from sklearn.preprocessing import MinMaxScaler\n",
        "from sklearn.metrics import roc_curve\n",
        "from sklearn.metrics import roc_auc_score\n",
        "from sklearn.model_selection import train_test_split\n",
        "from sklearn.feature_selection import SelectKBest\n",
        "\n",
        "# Definamos la matriz X\n",
        "campos = ['edad_mujer','educacion_mujer', 'educacion_hombre', 'numero_hijos', 'mujer_trabaja','nivel_vida'] # Lista que contiene las features que definí para usar\n",
        "X = d_filtrado[campos].values # En este caso no hace falta reshapear, porque ya tiene las dimensiones correctas\n",
        "y = np.array(d_filtrado['Toma Anticonceptivos'])\n",
        "X_1 = np.concatenate((X, X**2), axis=1) # agrego features elevados a las potencias que elegí\n",
        "\n",
        "skf = StratifiedKFold(n_splits=5, shuffle=True) # igual que en las clases tome 5 folds y shuffle=True para que los grupos sean al azar\n",
        "skf.get_n_splits(X_1, y) # armo los folds a partir de los datos\n",
        "\n",
        "auc_values = [] # acá es donde van a ir a parar los AUCs de cada fold\n",
        "scores = np.array([])     # acá es donde van a ir a parar los scores computados para todos los casos\n",
        "\n",
        "for train_index, test_index in skf.split(X_1, y): # va generando los indices que corresponden a train y test en cada fold\n",
        "    X_train, X_test = X_1[train_index], X_1[test_index] # arma que es dato de entrenamiento y qué es dato de evaluación\n",
        "    y_train, y_test = y[train_index], y[test_index]     # idem con los targets\n",
        "\n",
        "    regLog_1 = LogisticRegression(penalty = 'l2',C=16, max_iter=10000) # defino el modelo\n",
        "    regLog_1.fit(X_train, y_train) # Ajusto el modelo con los datos de entrenamiento\n",
        "\n",
        "    probas_test = regLog_1.predict_proba(X_test)  # probabilidades con datos de evaluación\n",
        "    fpr_test, tpr_test, thresholds_test = roc_curve(y_test, probas_test[:,1]) # para plotear curva ROC con datos de entrenamiento\n",
        "    auc_test = roc_auc_score(y_test, probas_test[:,1]) #  AUC con datos de evaluación\n",
        "\n",
        "    auc_values.append(auc_test)\n",
        "    scores = np.concatenate((scores,probas_test[:,1]),axis=0)\n",
        "\n",
        "print(\"Estos son los valores AUC para cada fold:\")\n",
        "print(auc_values)\n",
        "print(\"Estos es el promedio de todos los AUC:\")\n",
        "print(np.mean(auc_values))\n",
        "print(\"Estos son las probabilidades para cada sample:\")\n",
        "print(scores)"
      ],
      "execution_count": null,
      "outputs": [
        {
          "output_type": "stream",
          "text": [
            "Estos son los valores AUC para cada fold:\n",
            "[0.6610549943883277, 0.7202797202797202, 0.8053613053613053, 0.7400932400932401, 0.8053613053613055]\n",
            "Estos es el promedio de todos los AUC:\n",
            "0.7464301130967798\n",
            "Estos son las probabilidades para cada sample:\n",
            "[0.28980062 0.302609   0.69033221 0.27621301 0.78643099 0.75151454\n",
            " 0.54571231 0.60762669 0.63148028 0.74651771 0.49798619 0.82535245\n",
            " 0.75069521 0.59111898 0.27536427 0.31013511 0.40791133 0.07926366\n",
            " 0.46471484 0.92210709 0.61807301 0.82080628 0.80571265 0.59555979\n",
            " 0.30589513 0.64218071 0.40997438 0.89367796 0.73513962 0.76478211\n",
            " 0.76980436 0.70347    0.67898973 0.34654345 0.87374457 0.69905272\n",
            " 0.67898973 0.32297965 0.35622843 0.74651771 0.15180485 0.7684419\n",
            " 0.87182252 0.64196176 0.17424995 0.49788023 0.38137994 0.57370071\n",
            " 0.44889568 0.24216261 0.72763039 0.61990641 0.35994748 0.84078859\n",
            " 0.93555283 0.4814853  0.5642462  0.49199149 0.85142242 0.12969984\n",
            " 0.62718993 0.74739489 0.56672247 0.6607987  0.43792575 0.47361125\n",
            " 0.66626861 0.85146571 0.53163246 0.30107468 0.45533635 0.9247641\n",
            " 0.72887483 0.72569463 0.71168894 0.77317035 0.41384364 0.42609142\n",
            " 0.56105047 0.14504698 0.18872602 0.67692198 0.2754902  0.86606821\n",
            " 0.15506372 0.76508746 0.56836578 0.14367342 0.25312868 0.42055587\n",
            " 0.28936605 0.51612857 0.61969769 0.40388585 0.69919029 0.78764924\n",
            " 0.74360405 0.15400251 0.86938313 0.2828976  0.2154233  0.71000088\n",
            " 0.53841927 0.86073958 0.64152691 0.5876385  0.34153919 0.27535248\n",
            " 0.37341531 0.38776679 0.72382483 0.09487012 0.8137889  0.83735164\n",
            " 0.9060467  0.44700174 0.79085272 0.86067929 0.78159277 0.32590778\n",
            " 0.61307222 0.49728527 0.68389043 0.69401269 0.44094211 0.59732155\n",
            " 0.38886926 0.05360057 0.61558128 0.91025637 0.26683438 0.19818683\n",
            " 0.91402114 0.40575456 0.84296691 0.09109495 0.01346862 0.48140879\n",
            " 0.1378333  0.40028349 0.77170782 0.67811779 0.91332369 0.60893234\n",
            " 0.57021552 0.74203914 0.51343127 0.09100083 0.91206764 0.74104086\n",
            " 0.57123248 0.93510759 0.86977091 0.42435998 0.45123106 0.1612304\n",
            " 0.68722061 0.73986713 0.78155214 0.14080292 0.32695132 0.40722425\n",
            " 0.7573651  0.84981818 0.23644369 0.78540189 0.13683534 0.90722353\n",
            " 0.28325155 0.65782701 0.36545251 0.78540189 0.16730334 0.50652218\n",
            " 0.01336495 0.23131793 0.84868843 0.60335497 0.79913779 0.88431237\n",
            " 0.92779931 0.74012257 0.53536122 0.6920769  0.78613032 0.84576845\n",
            " 0.88431237 0.48440514 0.94078743 0.51224174 0.92260689 0.95164121\n",
            " 0.82096694 0.84154379 0.88173545 0.92315595 0.93551638 0.52673006\n",
            " 0.44469432 0.43349954 0.60002665 0.94411977 0.38501904 0.10445566\n",
            " 0.77035082 0.2930791  0.85063399 0.3025638  0.83683896 0.822462\n",
            " 0.66042458 0.30949478 0.12073019 0.46131603 0.91398853 0.93508067\n",
            " 0.54573723 0.55876832 0.56948435 0.15158491 0.87426133 0.45752905\n",
            " 0.7838263  0.39829376 0.57896256 0.63629606 0.10383698 0.20456081\n",
            " 0.08332605 0.79160869 0.33646289 0.11023084 0.27061424 0.27707921\n",
            " 0.88424211 0.17089745 0.8667138  0.88890449 0.5011633  0.85419921\n",
            " 0.12851536 0.43071157 0.75813199 0.6110726  0.72274988 0.05935962\n",
            " 0.08934206 0.84975115 0.739339   0.7094667  0.17980669 0.88140732\n",
            " 0.76442791 0.5414585  0.78302886 0.24439839 0.31626577 0.10850322\n",
            " 0.56778237 0.70243825 0.86511934 0.50467374 0.71807675 0.28064237\n",
            " 0.10004501 0.71970107 0.62352737 0.86672385 0.13132375 0.88024164\n",
            " 0.4571429  0.77705885 0.25119506 0.42208448 0.75511412 0.1848547\n",
            " 0.67686653 0.45319194 0.55671448 0.82460909 0.91438402 0.43397759\n",
            " 0.22765119 0.2111185  0.86539076 0.3789152  0.07877337 0.50506757\n",
            " 0.50324606 0.6382739  0.76673835 0.92507601 0.61222077 0.70947097\n",
            " 0.65994853 0.66438357]\n",
            "Esta es la forma en que quedaron ordenados las entradas del vector anterior (indices):\n",
            "[  7.  21.  24.  30.  38.  43.  44.  54.  59.  62.  66.  68.  75.  77.\n",
            "  82.  85. 107. 108. 111. 114. 118. 119. 120. 126. 128. 137. 140. 153.\n",
            " 156. 161. 169. 170. 178. 179. 181. 182. 190. 194. 200. 202. 205. 208.\n",
            " 213. 218. 221. 224. 229. 242. 248. 250. 263. 273. 274. 278. 283. 284.\n",
            " 286. 287. 288. 294.   8.  15.  20.  32.  33.  34.  45.  49.  52.  60.\n",
            "  65.  70.  73.  74.  76.  87.  89.  93.  94.  96. 109. 110. 116. 133.\n",
            " 134. 141. 144. 145. 147. 150. 154. 157. 162. 163. 164. 166. 167. 187.\n",
            " 188. 198. 204. 207. 211. 212. 216. 217. 219. 225. 228. 237. 244. 246.\n",
            " 253. 254. 257. 266. 268. 269. 272.   0.   3.   5.  11.  14.  22.  23.\n",
            "  28.  31.  36.  41.  50.  58.  61.  72.  79.  81.  84.  90.  91.  92.\n",
            "  95.  98.  99. 102. 105. 113. 117. 122. 124. 129. 143. 148. 149. 159.\n",
            " 168. 171. 172. 180. 192. 197. 203. 210. 215. 227. 233. 234. 236. 239.\n",
            " 241. 252. 255. 256. 258. 259. 264. 270. 279. 282.   2.  13.  19.  25.\n",
            "  27.  29.  35.  40.  42.  46.  47.  55.  57.  63.  64.  71.  80.  83.\n",
            "  86.  97. 100. 103. 104. 106. 121. 123. 131. 136. 142. 151. 160. 175.\n",
            " 176. 183. 184. 191. 193. 195. 201. 206. 209. 222. 223. 226. 230. 235.\n",
            " 238. 240. 247. 251. 262. 265. 267. 275. 276. 280. 289. 291. 292.   1.\n",
            "   4.   6.   9.  10.  12.  16.  17.  18.  26.  37.  39.  48.  51.  53.\n",
            "  56.  67.  69.  78.  88. 101. 112. 115. 125. 127. 130. 132. 135. 138.\n",
            " 139. 146. 152. 155. 158. 165. 173. 174. 177. 185. 186. 189. 196. 199.\n",
            " 214. 220. 231. 232. 243. 245. 249. 260. 261. 271. 277. 281. 285. 290.\n",
            " 293. 295.]\n"
          ],
          "name": "stdout"
        }
      ]
    },
    {
      "cell_type": "code",
      "metadata": {
        "colab": {
          "base_uri": "https://localhost:8080/"
        },
        "id": "lel-xYrZ6m_y",
        "outputId": "3818cea8-945c-4f17-9957-285ede1a3499"
      },
      "source": [
        "drive.mount('/content/drive')\n",
        "path = '/content/drive/My Drive/anticoncepcion_indonesia_test.csv'\n",
        "df_test1 = pd.read_csv(path)\n",
        "df_test1.columns\n",
        "print(df_test1)"
      ],
      "execution_count": null,
      "outputs": [
        {
          "output_type": "stream",
          "text": [
            "Drive already mounted at /content/drive; to attempt to forcibly remount, call drive.mount(\"/content/drive\", force_remount=True).\n",
            "      edad_mujer  educacion_mujer  ...  nivel_vida  exposicion_medios\n",
            "0             30                2  ...           1                  0\n",
            "1             31                3  ...           3                  0\n",
            "2             23                1  ...           2                  1\n",
            "3             46                1  ...           1                  1\n",
            "4             36                4  ...           4                  0\n",
            "...          ...              ...  ...         ...                ...\n",
            "1172          29                3  ...           4                  0\n",
            "1173          24                3  ...           2                  0\n",
            "1174          39                1  ...           1                  1\n",
            "1175          38                1  ...           3                  1\n",
            "1176          29                2  ...           1                  0\n",
            "\n",
            "[1177 rows x 9 columns]\n"
          ],
          "name": "stdout"
        }
      ]
    },
    {
      "cell_type": "markdown",
      "metadata": {
        "id": "Sc9C_2bRi5kp"
      },
      "source": [
        "Lo único que tuve que tener en cuenta para predecir con los datos que nos dieron, fue que tenáa que tener los features al cuadrado, no solo lineal"
      ]
    },
    {
      "cell_type": "code",
      "metadata": {
        "id": "xxCgkXlS6yx3"
      },
      "source": [
        "campos = ['edad_mujer','educacion_mujer', 'educacion_hombre', 'numero_hijos', 'mujer_trabaja','nivel_vida']\n",
        "X_test1 = np.array(df_test1[campos])\n",
        "X_2 = np.concatenate((X_test1, X_test1**2), axis=1)"
      ],
      "execution_count": null,
      "outputs": []
    },
    {
      "cell_type": "code",
      "metadata": {
        "colab": {
          "base_uri": "https://localhost:8080/"
        },
        "id": "oy_JfDL96nMi",
        "outputId": "7e9049ac-3cb3-43e3-9a87-a01e2801ca27"
      },
      "source": [
        "probas = regLog_1.predict_proba(X_2)\n",
        "print(probas)"
      ],
      "execution_count": null,
      "outputs": [
        {
          "output_type": "stream",
          "text": [
            "[[0.89041692 0.10958308]\n",
            " [0.89037402 0.10962598]\n",
            " [0.41499933 0.58500067]\n",
            " ...\n",
            " [0.93561992 0.06438008]\n",
            " [0.88004365 0.11995635]\n",
            " [0.74878252 0.25121748]]\n"
          ],
          "name": "stdout"
        }
      ]
    },
    {
      "cell_type": "code",
      "metadata": {
        "id": "sXLlrwD7Hcor"
      },
      "source": [
        "import numpy as np\n",
        "save_path= '/content/drive/My Drive/Victoria_CailletBois.csv'\n",
        "\n",
        "np.savetxt(save_path, probas, delimiter=\",\")"
      ],
      "execution_count": null,
      "outputs": []
    }
  ]
}